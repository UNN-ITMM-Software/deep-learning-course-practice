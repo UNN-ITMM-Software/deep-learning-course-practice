{
  "cells": [
    {
      "cell_type": "markdown",
      "metadata": {
        "id": "DnxZj0URSlnQ"
      },
      "source": [
        "#Import Data"
      ]
    },
    {
      "cell_type": "code",
      "execution_count": 1,
      "metadata": {
        "id": "XbMA3MbLKPF5"
      },
      "outputs": [],
      "source": [
        "import warnings\n",
        "warnings.filterwarnings(\"ignore\")\n",
        "\n",
        "import numpy as np\n",
        "\n",
        "from keras.datasets import mnist\n",
        "from keras.utils import np_utils\n",
        "\n",
        "from timeit import default_timer as timer\n",
        "\n",
        "(x_train, y_train), (x_test, y_test) = mnist.load_data()\n",
        "\n",
        "x_train = x_train.reshape(x_train.shape[0], 28*28)\n",
        "x_train = x_train.astype('float32')\n",
        "x_train /= 255\n",
        "\n",
        "x_test = x_test.reshape(x_test.shape[0], 28*28)\n",
        "x_test = x_test.astype('float32')\n",
        "x_test /= 255\n",
        "\n",
        "y_train = np.eye(10)[y_train]\n",
        "y_test = np.eye(10)[y_test]"
      ]
    },
    {
      "cell_type": "markdown",
      "metadata": {
        "id": "w7_awyVJSokB"
      },
      "source": [
        "### Check shape of train data"
      ]
    },
    {
      "cell_type": "code",
      "execution_count": 2,
      "metadata": {
        "colab": {
          "base_uri": "https://localhost:8080/"
        },
        "id": "S3B5dUg8KckT",
        "outputId": "abde2bb3-e4b8-4076-9462-0f0cd1b02cd4"
      },
      "outputs": [
        {
          "output_type": "execute_result",
          "data": {
            "text/plain": [
              "((60000, 784), (60000, 10))"
            ]
          },
          "metadata": {},
          "execution_count": 2
        }
      ],
      "source": [
        "x_train.shape, y_train.shape"
      ]
    },
    {
      "cell_type": "markdown",
      "metadata": {
        "id": "WfwOL6rbSrZN"
      },
      "source": [
        "### Check shape of test data"
      ]
    },
    {
      "cell_type": "code",
      "execution_count": 3,
      "metadata": {
        "colab": {
          "base_uri": "https://localhost:8080/"
        },
        "id": "IHSjms2FKiUa",
        "outputId": "9a8b76e8-ca48-4f39-dfc8-9035ec1a0557"
      },
      "outputs": [
        {
          "output_type": "execute_result",
          "data": {
            "text/plain": [
              "((10000, 784), (10000, 10))"
            ]
          },
          "metadata": {},
          "execution_count": 3
        }
      ],
      "source": [
        "x_test.shape, y_test.shape"
      ]
    },
    {
      "cell_type": "markdown",
      "metadata": {
        "id": "IoMxqlW6Su4V"
      },
      "source": [
        "# Build Neural Network from scratch"
      ]
    },
    {
      "cell_type": "code",
      "execution_count": 4,
      "metadata": {
        "id": "61fvQqFbOblX"
      },
      "outputs": [],
      "source": [
        "class NeuralNetwork:\n",
        "    def __init__(\n",
        "            self,\n",
        "            input_size,\n",
        "            hidden_size,\n",
        "            output_size,\n",
        "            batch_size,\n",
        "            activation,\n",
        "            softmax,\n",
        "            lr):\n",
        "        self.W_0 = np.random.normal(0, np.sqrt(\n",
        "            2 / input_size), [input_size, hidden_size])\n",
        "        self.b_0 = np.zeros([1, hidden_size])\n",
        "        self.W_1 = np.random.normal(0, np.sqrt(\n",
        "            2 / (input_size + output_size)), [hidden_size, output_size])\n",
        "        self.b_1 = np.zeros([1, output_size])\n",
        "        self.batch_size = batch_size\n",
        "        self.activation = activation\n",
        "        self.soft = softmax\n",
        "        self.lr = lr\n",
        "\n",
        "    def setLoss(self, loss):\n",
        "        self.loss = loss\n",
        "\n",
        "    def forward(self, x_batch):\n",
        "        self.x1 = np.matmul(x_batch, self.W_0) + self.b_0\n",
        "        self.dense = self.activation(self.x1)\n",
        "        self.x2 = np.matmul(self.dense, self.W_1) + self.b_1\n",
        "        self.out = self.soft(self.x2)\n",
        "        return self.out\n",
        "\n",
        "    def backward(self, x_batch, y_batch):\n",
        "        dx2 = (self.out - y_batch) / self.out.shape[0]\n",
        "        dW_1 = np.matmul(self.dense.T, dx2)\n",
        "        db_1 = np.sum(dx2, axis=0, keepdims=True)\n",
        "        dx1 = np.matmul(dx2, self.W_1.T) * np.where(self.x1 > 0, 1, 0)\n",
        "        dW_0 = np.matmul(x_batch.T, dx1)\n",
        "        db_0 = np.sum(dx1, axis=0, keepdims=True)\n",
        "\n",
        "        self.W_1 -= self.lr * dW_1\n",
        "        self.b_1 -= self.lr * db_1\n",
        "        self.W_0 -= self.lr * dW_0\n",
        "        self.b_0 -= self.lr * db_0\n",
        "\n",
        "    def trainOneEpoch(self, input, groundTruth, batch_size):\n",
        "        tStart = timer()\n",
        "        error = 0\n",
        "        for i in range(0, len(input), batch_size):\n",
        "            if i + batch_size >= len(input):\n",
        "                break\n",
        "            X_batch = input[i: i + batch_size]\n",
        "            y_batch = groundTruth[i: i + batch_size]\n",
        "            output = self.forward(X_batch)\n",
        "            if not hasattr(self, 'loss'):\n",
        "                raise AttributeError\n",
        "            error += self.loss(y_batch, self.out)\n",
        "            loss = self.backward(X_batch, y_batch)\n",
        "        tEnd = timer()\n",
        "        return (error, tEnd - tStart)\n",
        "\n",
        "    def train(self, input, groundTruth, epochs, batch_size=8):\n",
        "        total_time = 0\n",
        "        for epoch in range(epochs):\n",
        "            error, time = self.trainOneEpoch(input, groundTruth, batch_size)\n",
        "            total_time  += time \n",
        "\n",
        "            print(\n",
        "                'epoch %d/%d   error=%f   accuracy=%f  time=%f s' %\n",
        "                (epoch +\n",
        "                 1,\n",
        "                 epochs,\n",
        "                 error /\n",
        "                 len(input),\n",
        "                    get_accuracy(\n",
        "                     self.forward(input),\n",
        "                     groundTruth),\n",
        "                 time))\n",
        "        return total_time\n",
        "\n",
        "    def test(self, x_test):\n",
        "        return self.forward(x_test)"
      ]
    },
    {
      "cell_type": "code",
      "execution_count": 5,
      "metadata": {
        "id": "88i_QCiemeVB"
      },
      "outputs": [],
      "source": [
        "def relu(inputs):\n",
        "    return np.maximum(0, inputs)\n",
        "\n",
        "def softmax(inputs):\n",
        "    exp_scores = np.exp(inputs)\n",
        "    probs = exp_scores / np.sum(exp_scores, axis=1, keepdims=True)\n",
        "    return probs\n",
        "\n",
        "def get_accuracy(predicted, actual):\n",
        "    return np.mean(np.argmax(predicted, axis=1)==np.argmax(actual, axis=1))\n",
        "    \n",
        "def crossEntropyLoss(x, y):\n",
        "    return np.mean(-np.sum(x * np.log(y), axis=1))"
      ]
    },
    {
      "cell_type": "code",
      "execution_count": 6,
      "metadata": {
        "id": "eXTZ2FBXjTn1"
      },
      "outputs": [],
      "source": [
        "net = NeuralNetwork(28*28, 300, 10, 64, relu, softmax, 0.1)\n",
        "net.setLoss(crossEntropyLoss)"
      ]
    },
    {
      "cell_type": "code",
      "execution_count": 7,
      "metadata": {
        "colab": {
          "base_uri": "https://localhost:8080/"
        },
        "id": "Ilu6KWqKjoAo",
        "outputId": "760d4fb1-8ad4-43e2-e384-a82255899f22"
      },
      "outputs": [
        {
          "output_type": "stream",
          "name": "stdout",
          "text": [
            "epoch 1/20   error=0.024628   accuracy=0.966850  time=22.215849 s\n",
            "epoch 2/20   error=0.010364   accuracy=0.976100  time=16.331098 s\n",
            "epoch 3/20   error=0.006746   accuracy=0.982067  time=16.344927 s\n",
            "epoch 4/20   error=0.004591   accuracy=0.986100  time=16.821261 s\n",
            "epoch 5/20   error=0.003091   accuracy=0.990417  time=16.179401 s\n",
            "epoch 6/20   error=0.002179   accuracy=0.991933  time=16.108488 s\n",
            "epoch 7/20   error=0.001447   accuracy=0.993533  time=18.200392 s\n",
            "epoch 8/20   error=0.001041   accuracy=0.995483  time=16.211838 s\n",
            "epoch 9/20   error=0.000779   accuracy=0.997100  time=16.454769 s\n",
            "epoch 10/20   error=0.000487   accuracy=0.998300  time=16.284766 s\n",
            "epoch 11/20   error=0.000324   accuracy=0.999167  time=16.390879 s\n",
            "epoch 12/20   error=0.000217   accuracy=0.999600  time=16.388776 s\n",
            "epoch 13/20   error=0.000161   accuracy=0.999800  time=16.101040 s\n",
            "epoch 14/20   error=0.000120   accuracy=0.999917  time=16.252020 s\n",
            "epoch 15/20   error=0.000100   accuracy=0.999967  time=16.342558 s\n",
            "epoch 16/20   error=0.000087   accuracy=0.999983  time=16.279953 s\n",
            "epoch 17/20   error=0.000077   accuracy=0.999983  time=17.876161 s\n",
            "epoch 18/20   error=0.000070   accuracy=1.000000  time=16.170530 s\n",
            "epoch 19/20   error=0.000063   accuracy=1.000000  time=16.154268 s\n",
            "epoch 20/20   error=0.000059   accuracy=1.000000  time=16.207671 s\n"
          ]
        }
      ],
      "source": [
        "total_time = net.train(x_train, y_train, epochs=20)"
      ]
    },
    {
      "cell_type": "code",
      "execution_count": 8,
      "metadata": {
        "colab": {
          "base_uri": "https://localhost:8080/",
          "height": 56
        },
        "id": "s7YQJwhaTW0e",
        "outputId": "4db31048-6303-4b55-997e-a9d23e1ab45c"
      },
      "outputs": [
        {
          "output_type": "execute_result",
          "data": {
            "text/plain": [
              "<IPython.core.display.HTML object>"
            ],
            "text/html": [
              "<h3>Fitting time: 335.3166462569998 second</h3>"
            ]
          },
          "metadata": {},
          "execution_count": 8
        }
      ],
      "source": [
        "from IPython.display import HTML\n",
        "\n",
        "HTML(f'<h3>Fitting time: {total_time} second</h3>')"
      ]
    },
    {
      "cell_type": "code",
      "execution_count": 9,
      "metadata": {
        "colab": {
          "base_uri": "https://localhost:8080/",
          "height": 56
        },
        "id": "QveJ3FwjSehu",
        "outputId": "d336a9a1-57fb-4e4a-b454-26222da40b6e"
      },
      "outputs": [
        {
          "output_type": "execute_result",
          "data": {
            "text/plain": [
              "<IPython.core.display.HTML object>"
            ],
            "text/html": [
              "<h3>Accuracy on test data: 0.9836</h3>"
            ]
          },
          "metadata": {},
          "execution_count": 9
        }
      ],
      "source": [
        "test_accuracy = get_accuracy(net.forward(x_test), y_test)\n",
        "\n",
        "HTML(f'<h3>Accuracy on test data: {test_accuracy}</h3>')"
      ]
    },
    {
      "cell_type": "markdown",
      "metadata": {
        "id": "NYaVn977VL8K"
      },
      "source": [
        "# Build Neural Network using torch"
      ]
    },
    {
      "cell_type": "code",
      "execution_count": 10,
      "metadata": {
        "id": "OIwm54fbSehv"
      },
      "outputs": [],
      "source": [
        "from torch import nn\n",
        "from torch.nn import functional as F\n",
        "\n",
        "input_size = 28*28\n",
        "hidden_size = 300\n",
        "output_size = 10\n",
        "\n",
        "class Network(nn.Module):\n",
        "    def __init__(self):\n",
        "        super(Network, self).__init__()\n",
        "        self.l1 = nn.Linear(input_size, hidden_size)\n",
        "        self.relu = nn.ReLU()\n",
        "        self.l3 = nn.Linear(hidden_size, output_size)\n",
        "        \n",
        "    def forward(self, x):\n",
        "        x = self.l1(x)\n",
        "        x = self.relu(x)\n",
        "        x = self.l3(x)\n",
        "        return F.log_softmax(x)"
      ]
    },
    {
      "cell_type": "code",
      "execution_count": 11,
      "metadata": {
        "colab": {
          "base_uri": "https://localhost:8080/"
        },
        "id": "EVI0zzaiSehw",
        "outputId": "a8fec501-44a5-49fc-dca2-c52b9eb579f9"
      },
      "outputs": [
        {
          "output_type": "stream",
          "name": "stdout",
          "text": [
            "Network(\n",
            "  (l1): Linear(in_features=784, out_features=300, bias=True)\n",
            "  (relu): ReLU()\n",
            "  (l3): Linear(in_features=300, out_features=10, bias=True)\n",
            ")\n"
          ]
        }
      ],
      "source": [
        "net = Network()\n",
        "print(net)"
      ]
    },
    {
      "cell_type": "code",
      "execution_count": 12,
      "metadata": {
        "id": "XvST_X1wSehx"
      },
      "outputs": [],
      "source": [
        "import torch.optim as optim\n",
        "\n",
        "optimizer = optim.SGD(net.parameters(), lr=0.1, momentum=0.9)\n",
        "loss_func = nn.CrossEntropyLoss()"
      ]
    },
    {
      "cell_type": "code",
      "execution_count": 13,
      "metadata": {
        "colab": {
          "base_uri": "https://localhost:8080/"
        },
        "id": "BPjz7M5XSehx",
        "outputId": "30ed5d59-1068-47e0-9704-4834c3882f23"
      },
      "outputs": [
        {
          "output_type": "stream",
          "name": "stdout",
          "text": [
            "Epoch: 0 - Loss: 0.054701 Accuracy: 0.954767\n",
            "Epoch: 1 - Loss: 0.011779 Accuracy: 0.973083\n",
            "Epoch: 2 - Loss: 0.003062 Accuracy: 0.982883\n",
            "Epoch: 3 - Loss: 0.001082 Accuracy: 0.975833\n",
            "Epoch: 4 - Loss: 0.000463 Accuracy: 0.989600\n",
            "Epoch: 5 - Loss: 0.000139 Accuracy: 0.988750\n",
            "Epoch: 6 - Loss: 0.000898 Accuracy: 0.991617\n",
            "Epoch: 7 - Loss: 0.000192 Accuracy: 0.993417\n",
            "Epoch: 8 - Loss: 0.000741 Accuracy: 0.994283\n",
            "Epoch: 9 - Loss: 0.000916 Accuracy: 0.996233\n",
            "Epoch: 10 - Loss: 0.002022 Accuracy: 0.996150\n",
            "Epoch: 11 - Loss: 0.000021 Accuracy: 0.998067\n",
            "Epoch: 12 - Loss: 0.000276 Accuracy: 0.997183\n",
            "Epoch: 13 - Loss: 0.000406 Accuracy: 0.998967\n",
            "Epoch: 14 - Loss: 0.000040 Accuracy: 0.999117\n",
            "Epoch: 15 - Loss: 0.000047 Accuracy: 0.999717\n",
            "Epoch: 16 - Loss: 0.000032 Accuracy: 0.999667\n",
            "Epoch: 17 - Loss: 0.000040 Accuracy: 1.000000\n",
            "Epoch: 18 - Loss: 0.000031 Accuracy: 1.000000\n",
            "Epoch: 19 - Loss: 0.000029 Accuracy: 1.000000\n"
          ]
        }
      ],
      "source": [
        "from torch.autograd import Variable\n",
        "import torch\n",
        "\n",
        "batch_size = 64\n",
        "\n",
        "tStart = timer()\n",
        "\n",
        "for e in range(20):\n",
        "    for i in range(0, x_train.shape[0], batch_size):\n",
        "        x_mini = x_train[i:i + batch_size] \n",
        "        y_mini = y_train[i:i + batch_size] \n",
        "        \n",
        "        x_var = Variable(torch.tensor(x_mini))\n",
        "        y_var = Variable(torch.tensor(y_mini))\n",
        "        \n",
        "        optimizer.zero_grad()\n",
        "        net_out = net(x_var)\n",
        "        \n",
        "        loss = loss_func(net_out, y_var)\n",
        "        loss.backward()\n",
        "        optimizer.step()\n",
        "        \n",
        "    accuracy = get_accuracy(net(torch.tensor(x_train)).detach().numpy(), y_train)\n",
        "        \n",
        "    print('Epoch: {} - Loss: {:.6f} Accuracy: {:.6f}'.format(e, loss.data, accuracy))\n",
        "\n",
        "tEnd = timer()"
      ]
    },
    {
      "cell_type": "code",
      "execution_count": 14,
      "metadata": {
        "colab": {
          "base_uri": "https://localhost:8080/",
          "height": 56
        },
        "id": "N_4_OXQKVrp2",
        "outputId": "d46a89e2-467a-431d-8495-83189e41e541"
      },
      "outputs": [
        {
          "output_type": "execute_result",
          "data": {
            "text/plain": [
              "<IPython.core.display.HTML object>"
            ],
            "text/html": [
              "<h3>Fitting time: 72.3101863490001 second</h3>"
            ]
          },
          "metadata": {},
          "execution_count": 14
        }
      ],
      "source": [
        "from IPython.display import HTML\n",
        "\n",
        "HTML(f'<h3>Fitting time: {tEnd - tStart} second</h3>')"
      ]
    },
    {
      "cell_type": "code",
      "execution_count": 15,
      "metadata": {
        "colab": {
          "base_uri": "https://localhost:8080/",
          "height": 56
        },
        "id": "M0i_CKV1Sehz",
        "outputId": "3786cf66-19b1-4f98-f50c-f4eea0bab0d5"
      },
      "outputs": [
        {
          "output_type": "execute_result",
          "data": {
            "text/plain": [
              "<IPython.core.display.HTML object>"
            ],
            "text/html": [
              "<h3>Accuracy on test data: 0.9827</h3>"
            ]
          },
          "metadata": {},
          "execution_count": 15
        }
      ],
      "source": [
        "test_accuracy = get_accuracy(net(torch.tensor(x_test)).detach().numpy(), y_test)\n",
        "\n",
        "HTML(f'<h3>Accuracy on test data: {test_accuracy}</h3>')"
      ]
    }
  ],
  "metadata": {
    "colab": {
      "provenance": []
    },
    "kernelspec": {
      "display_name": "Python 3",
      "language": "python",
      "name": "python3"
    },
    "language_info": {
      "codemirror_mode": {
        "name": "ipython",
        "version": 3
      },
      "file_extension": ".py",
      "mimetype": "text/x-python",
      "name": "python",
      "nbconvert_exporter": "python",
      "pygments_lexer": "ipython3",
      "version": "3.7.12"
    }
  },
  "nbformat": 4,
  "nbformat_minor": 0
}