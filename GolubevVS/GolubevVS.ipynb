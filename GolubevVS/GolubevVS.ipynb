{
 "cells": [
  {
   "attachments": {},
   "cell_type": "markdown",
   "metadata": {},
   "source": [
    "# Лабораторная работа по курсу \"Глубокое обучение\"  \n",
    "\n",
    "## Постановка задачи  \n",
    "\n",
    "В процессе выполнения работы должны быть решены следующие задачи:\n",
    "\n",
    "1. Изучение общей схемы метода обратного распространения ошибки на базе стохастического градиентного спуска.\n",
    "2. Вывод математических формул для вычисления градиентов функции ошибки по параметрам нейронной сети и формул коррекции весов.\n",
    "3. Проектирование и разработка программной реализации метода обратного распространения ошибки.\n",
    "4. Тестирование разработанной программной реализации.\n",
    "5. Разработка примера использования метода обратного распространения ошибки для классификации рукописных цифр из набора данных MNIST [http://yann.lecun.com/exdb/mnist]."
   ]
  },
  {
   "attachments": {},
   "cell_type": "markdown",
   "metadata": {},
   "source": [
    "Импортирование необходимых библиотек и инициализация константных параметров:"
   ]
  },
  {
   "cell_type": "code",
   "execution_count": 64,
   "metadata": {},
   "outputs": [],
   "source": [
    "from matplotlib import pyplot as plt\n",
    "from keras.datasets import mnist\n",
    "from keras.utils import np_utils\n",
    "import numpy as np\n",
    "import time\n",
    "\n",
    "\n",
    "W = 28\n",
    "H = 28\n",
    "K = 10"
   ]
  },
  {
   "attachments": {},
   "cell_type": "markdown",
   "metadata": {},
   "source": [
    "Загрузка датасета и его преподготовка: "
   ]
  },
  {
   "cell_type": "code",
   "execution_count": 65,
   "metadata": {},
   "outputs": [
    {
     "name": "stdout",
     "output_type": "stream",
     "text": [
      "Number of train samples: 60000\n",
      "Number of test samples: 10000\n"
     ]
    },
    {
     "data": {
      "image/png": "[encoded data removed]",
      "text/plain": [
       "<Figure size 640x480 with 1 Axes>"
      ]
     },
     "metadata": {},
     "output_type": "display_data"
    }
   ],
   "source": [
    "(X_train, y_train), (X_test, y_test) = mnist.load_data()\n",
    "\n",
    "fig = plt.figure()\n",
    "plt.imshow(X_train[0], cmap = 'binary')\n",
    "\n",
    "X_train = X_train.reshape(X_train.shape[0], W * H).astype('float32') / 255\n",
    "X_test = X_test.reshape(X_test.shape[0], W * H).astype('float32') / 255\n",
    "\n",
    "y_train = np_utils.to_categorical(y_train, K)\n",
    "y_test = np_utils.to_categorical(y_test, K)\n",
    "\n",
    "print('Number of train samples: {}'.format(len(X_train)))\n",
    "print('Number of test samples: {}'.format(len(X_test)))"
   ]
  },
  {
   "attachments": {},
   "cell_type": "markdown",
   "metadata": {},
   "source": [
    "Определим функции ReLU, Softmax и кросс-энтропии:"
   ]
  },
  {
   "cell_type": "code",
   "execution_count": 66,
   "metadata": {},
   "outputs": [],
   "source": [
    "def relu(x):\n",
    "    return np.maximum(0, x)\n",
    "\n",
    "def softmax(x):\n",
    "    exp_x = np.exp(x)\n",
    "    return np.exp(x) / np.sum(np.exp(x), axis = 1, keepdims = True)\n",
    "\n",
    "def CrossEntropyLoss(y, u):\n",
    "    return np.mean(-np.sum(y * np.log(u), axis = 1))\n"
   ]
  },
  {
   "attachments": {},
   "cell_type": "markdown",
   "metadata": {},
   "source": [
    "Определим класс, реализующий:  \n",
    "\n",
    "1. Топологию нейронной сети\n",
    "2. Метод обратного распространения ошибки\n",
    "3. Интерфейс для тренировки полученной топологии"
   ]
  },
  {
   "cell_type": "code",
   "execution_count": 67,
   "metadata": {},
   "outputs": [],
   "source": [
    "class CustomNN:\n",
    "    def __init__(self, hidden_layer: int, lr: float, bs: int):\n",
    "        self.lr = lr\n",
    "        self.bs = bs\n",
    "        \n",
    "        # learnable parameters initialization\n",
    "        self.weights1 = np.random.randn(W * H, hidden_layer) * 0.01\n",
    "        self.biases1 = np.zeros((1, hidden_layer))\n",
    "        self.weights2 = np.random.randn(hidden_layer, K) * 0.01\n",
    "        self.biases2 = np.zeros((1, K))\n",
    "\n",
    "    def forward(self, x):\n",
    "        self.fc1 = np.matmul(x, self.weights1) + self.biases1\n",
    "        self.relu = relu(self.fc1)\n",
    "        self.fc2 = np.matmul(self.relu, self.weights2) + self.biases2\n",
    "        self.softmax = softmax(self.fc2)\n",
    "    \n",
    "    def backward(self, x, y):\n",
    "        dv2 = (self.softmax - y) / self.bs\n",
    "        grad_W2 = (self.relu.T).dot(dv2)\n",
    "        grad_b2 = np.sum(dv2, axis = 0, keepdims = True)\n",
    "        \n",
    "        dv1 = dv2.dot(self.weights2.T) * np.where(self.fc1 > 0, 1, 0)\n",
    "        grad_W1 = np.dot(x.T, dv1)\n",
    "        grad_b1 = np.sum(dv1, axis = 0, keepdims = True)\n",
    "\n",
    "        self.weights2 -= self.lr * grad_W2\n",
    "        self.biases2 -= self.lr * grad_b2\n",
    "        self.weights1 -= self.lr * grad_W1\n",
    "        self.biases1 -= self.lr * grad_b1\n",
    "    \n",
    "    \n",
    "    def train(self, x, y, epochs):\n",
    "        start = time.time()\n",
    "        for epoch in range(epochs):\n",
    "            start_epoch = time.time()\n",
    "\n",
    "            for i in range(0, len(x), self.bs):\n",
    "                x_curr = x[i : i + self.bs]\n",
    "                y_curr = y[i : i + self.bs]\n",
    "                self.forward(x_curr)\n",
    "                self.backward(x_curr, y_curr)\n",
    "\n",
    "            self.forward(x)\n",
    "            loss = CrossEntropyLoss(y, self.softmax)\n",
    "            accuracy = np.mean(np.argmax(self.softmax, axis = 1) == np.argmax(y, axis = 1))\n",
    "            epoch_time = time.time() - start_epoch\n",
    "            \n",
    "            print(\"Epoch № {}\".format(epoch))\n",
    "            print(\"\\tError: {:.3f}\\tAccuracy: {:.3f}\\tTime: {:.3f}\".format(loss, accuracy, epoch_time))\n",
    "        total_time = time.time() - start\n",
    "        print(\"Total time: {}\".format(total_time))\n",
    "    \n",
    "    \n",
    "    def test(self, x, y):\n",
    "        self.forward(x)\n",
    "        accuracy = np.mean(np.argmax(self.softmax, axis = 1) == np.argmax(y, axis = 1))\n",
    "        print(\"Test accuracy: {}\".format(accuracy))"
   ]
  },
  {
   "cell_type": "code",
   "execution_count": 68,
   "metadata": {},
   "outputs": [
    {
     "name": "stdout",
     "output_type": "stream",
     "text": [
      "Epoch № 0\n",
      "\tError: 0.121\tAccuracy: 0.962\tTime: 16.503\n",
      "Epoch № 1\n",
      "\tError: 0.075\tAccuracy: 0.976\tTime: 16.177\n",
      "Epoch № 2\n",
      "\tError: 0.050\tAccuracy: 0.983\tTime: 16.061\n",
      "Epoch № 3\n",
      "\tError: 0.039\tAccuracy: 0.987\tTime: 16.026\n",
      "Epoch № 4\n",
      "\tError: 0.033\tAccuracy: 0.989\tTime: 15.932\n",
      "Epoch № 5\n",
      "\tError: 0.029\tAccuracy: 0.991\tTime: 15.874\n",
      "Epoch № 6\n",
      "\tError: 0.023\tAccuracy: 0.992\tTime: 15.901\n",
      "Epoch № 7\n",
      "\tError: 0.023\tAccuracy: 0.992\tTime: 15.941\n",
      "Epoch № 8\n",
      "\tError: 0.015\tAccuracy: 0.995\tTime: 15.889\n",
      "Epoch № 9\n",
      "\tError: 0.012\tAccuracy: 0.996\tTime: 15.948\n",
      "Epoch № 10\n",
      "\tError: 0.007\tAccuracy: 0.998\tTime: 15.943\n",
      "Epoch № 11\n",
      "\tError: 0.003\tAccuracy: 0.999\tTime: 15.952\n",
      "Epoch № 12\n",
      "\tError: 0.002\tAccuracy: 1.000\tTime: 15.948\n",
      "Epoch № 13\n",
      "\tError: 0.002\tAccuracy: 1.000\tTime: 15.993\n",
      "Epoch № 14\n",
      "\tError: 0.001\tAccuracy: 1.000\tTime: 15.984\n",
      "Epoch № 15\n",
      "\tError: 0.001\tAccuracy: 1.000\tTime: 15.953\n",
      "Epoch № 16\n",
      "\tError: 0.001\tAccuracy: 1.000\tTime: 15.964\n",
      "Epoch № 17\n",
      "\tError: 0.001\tAccuracy: 1.000\tTime: 16.022\n",
      "Epoch № 18\n",
      "\tError: 0.001\tAccuracy: 1.000\tTime: 15.998\n",
      "Epoch № 19\n",
      "\tError: 0.001\tAccuracy: 1.000\tTime: 15.988\n",
      "Total time: 319.99627113342285\n"
     ]
    }
   ],
   "source": [
    "network = CustomNN(300, 0.1, 8)\n",
    "network.train(X_train, y_train, 20)\n"
   ]
  },
  {
   "cell_type": "code",
   "execution_count": 69,
   "metadata": {},
   "outputs": [
    {
     "name": "stdout",
     "output_type": "stream",
     "text": [
      "Test accuracy: 0.9836\n"
     ]
    }
   ],
   "source": [
    "network.test(X_test, y_test)"
   ]
  }
 ],
 "metadata": {
  "kernelspec": {
   "display_name": "Python 3",
   "language": "python",
   "name": "python3"
  },
  "language_info": {
   "codemirror_mode": {
    "name": "ipython",
    "version": 3
   },
   "file_extension": ".py",
   "mimetype": "text/x-python",
   "name": "python",
   "nbconvert_exporter": "python",
   "pygments_lexer": "ipython3",
   "version": "3.10.7"
  },
  "orig_nbformat": 4,
  "vscode": {
   "interpreter": {
    "hash": "eadcefcd06d85c35a6a5c9598d00fb793bcf9185a9c43bcc8a9d6a16bc520059"
   }
  }
 },
 "nbformat": 4,
 "nbformat_minor": 2
}
