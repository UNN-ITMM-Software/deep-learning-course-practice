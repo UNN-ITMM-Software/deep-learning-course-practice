{
 "cells": [
  {
   "attachments": {},
   "cell_type": "markdown",
   "metadata": {},
   "source": [
    "# Download and load data"
   ]
  },
  {
   "cell_type": "code",
   "execution_count": 1,
   "metadata": {},
   "outputs": [],
   "source": [
    "from sklearn.datasets import fetch_openml\n",
    "mnist_x, mnist_y = fetch_openml('mnist_784', return_X_y=True, as_frame=True)"
   ]
  },
  {
   "cell_type": "code",
   "execution_count": 2,
   "metadata": {},
   "outputs": [
    {
     "name": "stdout",
     "output_type": "stream",
     "text": [
      "x_train shape: (60000, 784), x_test shape: (10000, 784), y_train shape: (60000,), y_test shape: (10000,)\n"
     ]
    }
   ],
   "source": [
    "import numpy as np\n",
    "nrows_train, nrows_test, dtype = 60000, 10000, np.float32\n",
    "x_train = np.ascontiguousarray(mnist_x.values[:nrows_train], dtype=dtype)\n",
    "x_test = np.ascontiguousarray(mnist_x.values[nrows_train:nrows_train+nrows_test], dtype=dtype)\n",
    "y_train = np.ascontiguousarray(mnist_y.values[:nrows_train], dtype=int)\n",
    "y_test = np.ascontiguousarray(mnist_y.values[nrows_train:nrows_train+nrows_test], dtype=int)\n",
    "print(f'x_train shape: {x_train.shape}, x_test shape: {x_test.shape}, y_train shape: {y_train.shape}, y_test shape: {y_test.shape}')"
   ]
  },
  {
   "attachments": {},
   "cell_type": "markdown",
   "metadata": {},
   "source": [
    "# Visualize data"
   ]
  },
  {
   "cell_type": "code",
   "execution_count": 3,
   "metadata": {},
   "outputs": [
    {
     "data": {
      "image/png": "[encoded data removed]",
      "text/plain": [
       "<Figure size 640x480 with 1 Axes>"
      ]
     },
     "metadata": {},
     "output_type": "display_data"
    },
    {
     "data": {
      "image/png": "[encoded data removed]",
      "text/plain": [
       "<Figure size 640x480 with 1 Axes>"
      ]
     },
     "metadata": {},
     "output_type": "display_data"
    }
   ],
   "source": [
    "import matplotlib.pyplot as plt\n",
    "plt.imshow(np.reshape(x_train[9], (-1,28)), cmap = 'gray')\n",
    "plt.title(f'The true class is {y_train[9]}')\n",
    "plt.show()\n",
    "plt.imshow(np.reshape(x_train[30], (-1,28)), cmap = 'gray')\n",
    "plt.title(f'The true class is {y_train[30]}')\n",
    "plt.show()"
   ]
  },
  {
   "attachments": {},
   "cell_type": "markdown",
   "metadata": {},
   "source": [
    "# Preprocess"
   ]
  },
  {
   "cell_type": "code",
   "execution_count": 4,
   "metadata": {},
   "outputs": [],
   "source": [
    "from sklearn.preprocessing import MinMaxScaler\n",
    "scaler = MinMaxScaler(feature_range=(0,1)).fit(x_train)\n",
    "x_train = scaler.transform(x_train)\n",
    "x_test = scaler.transform(x_test)\n",
    "n_classes = 10\n",
    "y_train = np.identity(n_classes)[y_train]\n",
    "y_test = np.identity(n_classes)[y_test]"
   ]
  },
  {
   "attachments": {},
   "cell_type": "markdown",
   "metadata": {},
   "source": [
    "# Activation functions"
   ]
  },
  {
   "cell_type": "code",
   "execution_count": 5,
   "metadata": {},
   "outputs": [],
   "source": [
    "def relu(x):\n",
    "    return np.maximum(0, x)\n",
    "\n",
    "def softmax(x):\n",
    "    exp_x = np.exp(x)\n",
    "    return exp_x / np.sum(exp_x, axis=1, keepdims=True)"
   ]
  },
  {
   "attachments": {},
   "cell_type": "markdown",
   "metadata": {},
   "source": [
    "# Loss function"
   ]
  },
  {
   "cell_type": "code",
   "execution_count": 6,
   "metadata": {},
   "outputs": [],
   "source": [
    "def cross_entropy_loss(x, y):\n",
    "    return np.mean(-np.sum(x * np.log(y), axis=1))"
   ]
  },
  {
   "attachments": {},
   "cell_type": "markdown",
   "metadata": {},
   "source": [
    "# Compute accuracy"
   ]
  },
  {
   "cell_type": "code",
   "execution_count": 7,
   "metadata": {},
   "outputs": [],
   "source": [
    "def accuracy_score(y_true, y_pred):\n",
    "    return np.mean(np.argmax(y_true, axis=1) == np.argmax(y_pred, axis=1))"
   ]
  },
  {
   "attachments": {},
   "cell_type": "markdown",
   "metadata": {},
   "source": [
    "# Create custom NN"
   ]
  },
  {
   "cell_type": "code",
   "execution_count": 8,
   "metadata": {},
   "outputs": [],
   "source": [
    "from time import time\n",
    "import logging\n",
    "logging.basicConfig(stream = sys.stdout, level = logging.INFO)\n",
    "logger = logging.getLogger()\n",
    "\n",
    "\n",
    "\n",
    "class Custom_NN:\n",
    "    def __init__(\n",
    "            self,\n",
    "            input_layer_size,\n",
    "            hidden_layer_size,\n",
    "            output_layer_size,\n",
    "            hidden_activation_func,\n",
    "            output_activation_func,\n",
    "            loss_function,\n",
    "            lr,\n",
    "            batch_size,\n",
    "            num_epochs):\n",
    "        self.W = [np.random.randn(input_layer_size, hidden_layer_size) * np.sqrt(2 / (hidden_layer_size+input_layer_size)),\n",
    "                  np.random.randn(hidden_layer_size, output_layer_size) * np.sqrt(2 / (hidden_layer_size+input_layer_size))]\n",
    "        self.b = [np.zeros([1, hidden_layer_size]), np.zeros([1, output_layer_size])]\n",
    "        self.hidden_activation_func = hidden_activation_func\n",
    "        self.output_activation_func = output_activation_func\n",
    "        self.loss_function = loss_function\n",
    "        self.lr = lr\n",
    "        self.batch_size = batch_size\n",
    "        self.num_epochs = num_epochs\n",
    "        self.t = [np.ndarray((batch_size, hidden_layer_size), np.float32), np.ndarray((batch_size, output_layer_size), np.float32)]\n",
    "        self.t_derivative = [np.ndarray((batch_size, hidden_layer_size), np.float32), np.ndarray((batch_size, output_layer_size), np.float32)]\n",
    "        self.W_derivative = [np.ndarray((input_layer_size, hidden_layer_size), np.float32), np.ndarray((hidden_layer_size, output_layer_size), np.float32)]\n",
    "        self.b_derivative = [np.ndarray((1, hidden_layer_size), np.float32), np.ndarray((1, output_layer_size), np.float32)]\n",
    "        \n",
    "\n",
    "    def forward(self, x):\n",
    "        self.t[0] = np.matmul(x, self.W[0]) + self.b[0]\n",
    "        self.hidden_activation = self.hidden_activation_func(self.t[0])\n",
    "        self.t[1] = np.matmul(self.hidden_activation, self.W[1]) + self.b[1]\n",
    "        self.output_activation = self.output_activation_func(self.t[1])\n",
    "\n",
    "    def backward(self, x, y):\n",
    "        self.t_derivative[1] = (self.output_activation - y) / self.output_activation.shape[0]\n",
    "        self.W_derivative[1] = np.matmul(self.hidden_activation.T, self.t_derivative[1])\n",
    "        self.b_derivative[1] = np.sum(self.t_derivative[1], axis=0, keepdims=True)\n",
    "        self.t_derivative[0] = np.matmul(self.t_derivative[1], self.W[1].T) * np.where(self.t[0] > 0, 1, 0)\n",
    "        self.W_derivative[0] = np.matmul(x.T, self.t_derivative[0])\n",
    "        self.b_derivative[0] = np.sum(self.t_derivative[0], axis=0, keepdims=True)\n",
    "\n",
    "        for i in range(2):\n",
    "            self.W[i] -= self.lr * self.W_derivative[i]\n",
    "            self.b[i] -= self.lr * self.b_derivative[i]\n",
    "\n",
    "    def train(self, x, y):\n",
    "        overal_time = 0\n",
    "        samples_count = x.shape[0]\n",
    "        batch_size = self.batch_size\n",
    "\n",
    "        logger.info(\"Starting training\")\n",
    "        logger.info(f\"learning_rate = {self.lr}, num_epochs = {self.num_epochs}, batch_size = {batch_size}\")\n",
    "        for epoch in range(self.num_epochs):\n",
    "            start_time = time()\n",
    "\n",
    "            epoch_error_sum = 0\n",
    "\n",
    "            for i in range(0, samples_count, batch_size):\n",
    "                batch_end = samples_count if (i + batch_size >= samples_count) else i + batch_size\n",
    "\n",
    "                x_batch = x[i : batch_end]\n",
    "                y_batch = y[i : batch_end]\n",
    "\n",
    "                self.forward(x_batch)\n",
    "                epoch_error_sum += self.loss_function(y_batch, self.output_activation)\n",
    "                self.backward(x_batch, y_batch)\n",
    "                \n",
    "            end_time = time() - start_time\n",
    "            overal_time += end_time\n",
    "\n",
    "            epoch_error_mean = epoch_error_sum / samples_count\n",
    "\n",
    "            self.forward(x)\n",
    "\n",
    "            accuracy = accuracy_score(y, self.output_activation)\n",
    "\n",
    "            logger.info('Epoch[{}]: error = {}, accuracy = {}, time = {} sec'.\n",
    "                        format(epoch, epoch_error_mean, accuracy, end_time))\n",
    "\n",
    "        logger.info(f\"Overall training time: {overal_time} sec\")\n",
    "\n",
    "    def predict(self, x_test):\n",
    "        self.forward(x_test)\n",
    "        return self.output_activation"
   ]
  },
  {
   "attachments": {},
   "cell_type": "markdown",
   "metadata": {},
   "source": [
    "# Run training"
   ]
  },
  {
   "cell_type": "code",
   "execution_count": 9,
   "metadata": {},
   "outputs": [
    {
     "name": "stdout",
     "output_type": "stream",
     "text": [
      "INFO:root:Starting training\n",
      "INFO:root:learning_rate = 0.1, num_epochs = 20, batch_size = 64\n",
      "INFO:root:Epoch[0]: error = 0.0062647526610366345, accuracy = 0.9269833333333334, time = 0.5407118797302246 sec\n",
      "INFO:root:Epoch[1]: error = 0.0032331398750959895, accuracy = 0.9476166666666667, time = 0.5217394828796387 sec\n",
      "INFO:root:Epoch[2]: error = 0.0024017305054818924, accuracy = 0.9601833333333334, time = 0.5208935737609863 sec\n",
      "INFO:root:Epoch[3]: error = 0.00191174302628059, accuracy = 0.9674666666666667, time = 0.5168056488037109 sec\n",
      "INFO:root:Epoch[4]: error = 0.0015830576700439794, accuracy = 0.9729833333333333, time = 0.5226731300354004 sec\n",
      "INFO:root:Epoch[5]: error = 0.0013460010148782318, accuracy = 0.9767666666666667, time = 0.5170648097991943 sec\n",
      "INFO:root:Epoch[6]: error = 0.001166165014174195, accuracy = 0.97975, time = 0.5205340385437012 sec\n",
      "INFO:root:Epoch[7]: error = 0.0010241381516377607, accuracy = 0.9820333333333333, time = 0.5155291557312012 sec\n",
      "INFO:root:Epoch[8]: error = 0.0009082600127553021, accuracy = 0.9838333333333333, time = 0.522632360458374 sec\n",
      "INFO:root:Epoch[9]: error = 0.0008114574116661846, accuracy = 0.9856833333333334, time = 0.5062389373779297 sec\n",
      "INFO:root:Epoch[10]: error = 0.0007291791133557214, accuracy = 0.9872, time = 0.4994208812713623 sec\n",
      "INFO:root:Epoch[11]: error = 0.0006586607575600466, accuracy = 0.9887166666666667, time = 0.4980039596557617 sec\n",
      "INFO:root:Epoch[12]: error = 0.0005963796150947729, accuracy = 0.9899333333333333, time = 0.4955265522003174 sec\n",
      "INFO:root:Epoch[13]: error = 0.000542946354165555, accuracy = 0.991, time = 0.5029802322387695 sec\n",
      "INFO:root:Epoch[14]: error = 0.0004945959281305996, accuracy = 0.9919, time = 0.4963645935058594 sec\n",
      "INFO:root:Epoch[15]: error = 0.0004515985362508797, accuracy = 0.9927166666666667, time = 0.4945948123931885 sec\n",
      "INFO:root:Epoch[16]: error = 0.0004132859795162272, accuracy = 0.9933333333333333, time = 0.5001306533813477 sec\n",
      "INFO:root:Epoch[17]: error = 0.00037909425846495973, accuracy = 0.994, time = 0.49345993995666504 sec\n",
      "INFO:root:Epoch[18]: error = 0.0003479458369011272, accuracy = 0.9946, time = 0.5160958766937256 sec\n",
      "INFO:root:Epoch[19]: error = 0.0003203066834223818, accuracy = 0.9949833333333333, time = 0.5106022357940674 sec\n",
      "INFO:root:Overall training time: 10.212002754211426 sec\n"
     ]
    }
   ],
   "source": [
    "input_layer_size = 28 * 28\n",
    "hidden_layer_size = 300\n",
    "output_layer_size = 10\n",
    "hidden_activation_func = relu\n",
    "output_activation_func = softmax\n",
    "loss_function = cross_entropy_loss\n",
    "lr = 0.1\n",
    "batch_size = 64\n",
    "num_epochs = 20\n",
    "\n",
    "model = Custom_NN(input_layer_size,\n",
    "                  hidden_layer_size,\n",
    "                  output_layer_size,\n",
    "                  hidden_activation_func,\n",
    "                  output_activation_func,\n",
    "                  loss_function,\n",
    "                  lr,\n",
    "                  batch_size,\n",
    "                  num_epochs)\n",
    "\n",
    "model.train(x_train, y_train)"
   ]
  },
  {
   "attachments": {},
   "cell_type": "markdown",
   "metadata": {},
   "source": [
    "# Run predict"
   ]
  },
  {
   "cell_type": "code",
   "execution_count": 10,
   "metadata": {},
   "outputs": [
    {
     "name": "stdout",
     "output_type": "stream",
     "text": [
      "INFO:root:Accuracy on test data: 0.9791\n"
     ]
    }
   ],
   "source": [
    "logger.info(f\"Accuracy on test data: {accuracy_score(y_test, model.predict(x_test))}\")"
   ]
  },
  {
   "attachments": {},
   "cell_type": "markdown",
   "metadata": {},
   "source": [
    "# Compare with torch"
   ]
  },
  {
   "cell_type": "code",
   "execution_count": 11,
   "metadata": {},
   "outputs": [],
   "source": [
    "import torch\n",
    "from torch import nn\n",
    "import torch.nn.functional as F\n",
    "\n",
    "class Torch_NN(nn.Module):\n",
    "    def __init__(self):\n",
    "      super().__init__()\n",
    "      self.layer1 = nn.Linear(input_layer_size, hidden_layer_size)\n",
    "      self.relu = nn.ReLU()\n",
    "      self.layer2 = nn.Linear(hidden_layer_size, output_layer_size)\n",
    "    def forward(self, x):\n",
    "      x = self.layer1(x)\n",
    "      x = self.relu(x)\n",
    "      x = self.layer2(x)\n",
    "      x = F.log_softmax(x)\n",
    "      return x"
   ]
  },
  {
   "cell_type": "code",
   "execution_count": 12,
   "metadata": {},
   "outputs": [
    {
     "data": {
      "text/plain": [
       "Torch_NN(\n",
       "  (layer1): Linear(in_features=784, out_features=300, bias=True)\n",
       "  (relu): ReLU()\n",
       "  (layer2): Linear(in_features=300, out_features=10, bias=True)\n",
       ")"
      ]
     },
     "execution_count": 12,
     "metadata": {},
     "output_type": "execute_result"
    }
   ],
   "source": [
    "torch_model = Torch_NN()\n",
    "torch_model"
   ]
  },
  {
   "cell_type": "code",
   "execution_count": 13,
   "metadata": {},
   "outputs": [
    {
     "name": "stderr",
     "output_type": "stream",
     "text": [
      "/tmp/ipykernel_40063/3286037995.py:15: UserWarning: Implicit dimension choice for log_softmax has been deprecated. Change the call to include dim=X as an argument.\n",
      "  x = F.log_softmax(x)\n"
     ]
    },
    {
     "name": "stdout",
     "output_type": "stream",
     "text": [
      "INFO:root:Epoch[0]: error = 0.10754882557375822, accuracy = 0.9222, time = 0.0002970695495605469 sec\n",
      "INFO:root:Epoch[1]: error = 0.05186586270838234, accuracy = 0.9461, time = 0.0003597736358642578 sec\n",
      "INFO:root:Epoch[2]: error = 0.03510199816491877, accuracy = 0.95875, time = 0.0003001689910888672 sec\n",
      "INFO:root:Epoch[3]: error = 0.028513603449482616, accuracy = 0.9666166666666667, time = 0.0002970695495605469 sec\n",
      "INFO:root:Epoch[4]: error = 0.025258691478711626, accuracy = 0.9729333333333333, time = 0.00030350685119628906 sec\n",
      "INFO:root:Epoch[5]: error = 0.02308775650521966, accuracy = 0.97695, time = 0.0003104209899902344 sec\n",
      "INFO:root:Epoch[6]: error = 0.022368456427329875, accuracy = 0.9799, time = 0.0002944469451904297 sec\n",
      "INFO:root:Epoch[7]: error = 0.020575459681651864, accuracy = 0.9822833333333333, time = 0.0003895759582519531 sec\n",
      "INFO:root:Epoch[8]: error = 0.01814799718960103, accuracy = 0.9843, time = 0.00033092498779296875 sec\n",
      "INFO:root:Epoch[9]: error = 0.01657356881139549, accuracy = 0.9862666666666666, time = 0.0002894401550292969 sec\n",
      "INFO:root:Epoch[10]: error = 0.01528848830912466, accuracy = 0.9877166666666667, time = 0.0003554821014404297 sec\n",
      "INFO:root:Epoch[11]: error = 0.01378487320434374, accuracy = 0.9889333333333333, time = 0.00029015541076660156 sec\n",
      "INFO:root:Epoch[12]: error = 0.012158672809178483, accuracy = 0.99, time = 0.0003399848937988281 sec\n",
      "INFO:root:Epoch[13]: error = 0.010944969730161347, accuracy = 0.99095, time = 0.00030112266540527344 sec\n",
      "INFO:root:Epoch[14]: error = 0.009530770051291881, accuracy = 0.9920333333333333, time = 0.0003020763397216797 sec\n",
      "INFO:root:Epoch[15]: error = 0.008680052046369013, accuracy = 0.9926166666666667, time = 0.0002903938293457031 sec\n",
      "INFO:root:Epoch[16]: error = 0.008240833366116362, accuracy = 0.9932666666666666, time = 0.0002932548522949219 sec\n",
      "INFO:root:Epoch[17]: error = 0.007464808875067064, accuracy = 0.9939166666666667, time = 0.0002899169921875 sec\n",
      "INFO:root:Epoch[18]: error = 0.007046773624006519, accuracy = 0.9944833333333334, time = 0.0003294944763183594 sec\n",
      "INFO:root:Epoch[19]: error = 0.006472784766458517, accuracy = 0.9950666666666667, time = 0.00030517578125 sec\n",
      "INFO:root:Overall training time: 0.0062694549560546875 sec\n"
     ]
    }
   ],
   "source": [
    "torch_loss_function = nn.CrossEntropyLoss() \n",
    "torch_optimizer = torch.optim.SGD(torch_model.parameters(), lr = lr) \n",
    "\n",
    "from torch.autograd import Variable\n",
    "overal_time = 0\n",
    "samples_count = x_train.shape[0]\n",
    "\n",
    "for epoch in range(num_epochs):\n",
    "    for i in range(0, samples_count, batch_size):\n",
    "        start_time = time()\n",
    "        batch_end = samples_count if (i + batch_size >= samples_count) else i + batch_size\n",
    "\n",
    "        x_batch = x_train[i : batch_end]\n",
    "        y_batch = y_train[i : batch_end]\n",
    "\n",
    "        x_variable = Variable(torch.tensor(x_batch))\n",
    "        y_variable = Variable(torch.tensor(y_batch))\n",
    "\n",
    "        outputs = torch_model(x_variable) \n",
    "        loss = torch_loss_function(outputs, y_variable)\n",
    "\n",
    "        torch_optimizer.zero_grad() \n",
    "        loss.backward() \n",
    "        torch_optimizer.step()\n",
    "\n",
    "    end_time = time() - start_time\n",
    "    overal_time += end_time\n",
    "\n",
    "    accuracy = accuracy_score(y_train, torch_model(torch.tensor(x_train)).detach().numpy())\n",
    "    logger.info('Epoch[{}]: error = {}, accuracy = {}, time = {} sec'.\n",
    "            format(epoch, loss.data, accuracy, end_time))\n",
    "\n",
    "logger.info(f\"Overall training time: {overal_time} sec\")\n"
   ]
  },
  {
   "cell_type": "code",
   "execution_count": 14,
   "metadata": {},
   "outputs": [
    {
     "name": "stdout",
     "output_type": "stream",
     "text": [
      "INFO:root:Pytorch accuracy on test data: 0.979\n"
     ]
    },
    {
     "name": "stderr",
     "output_type": "stream",
     "text": [
      "/tmp/ipykernel_40063/3286037995.py:15: UserWarning: Implicit dimension choice for log_softmax has been deprecated. Change the call to include dim=X as an argument.\n",
      "  x = F.log_softmax(x)\n"
     ]
    }
   ],
   "source": [
    "logger.info(f\"Pytorch accuracy on test data: {accuracy_score(y_test, torch_model(torch.tensor(x_test)).detach().numpy())}\")"
   ]
  }
 ],
 "metadata": {
  "kernelspec": {
   "display_name": "backprop",
   "language": "python",
   "name": "python3"
  },
  "language_info": {
   "codemirror_mode": {
    "name": "ipython",
    "version": 3
   },
   "file_extension": ".py",
   "mimetype": "text/x-python",
   "name": "python",
   "nbconvert_exporter": "python",
   "pygments_lexer": "ipython3",
   "version": "3.9.15"
  },
  "orig_nbformat": 4,
  "vscode": {
   "interpreter": {
    "hash": "5e19c25732d6bf5174a31ba6d69c94a254ee53536146a96aeeb4d7b265418b34"
   }
  }
 },
 "nbformat": 4,
 "nbformat_minor": 2
}
