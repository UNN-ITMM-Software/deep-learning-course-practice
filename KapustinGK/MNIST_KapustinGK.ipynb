{
 "cells": [
  {
   "cell_type": "code",
   "execution_count": 1,
   "id": "7e676ce0",
   "metadata": {},
   "outputs": [],
   "source": [
    "import numpy as np\n",
    "import keras\n",
    "from keras.datasets import mnist"
   ]
  },
  {
   "cell_type": "code",
   "execution_count": 2,
   "id": "f0d1f86e",
   "metadata": {},
   "outputs": [],
   "source": [
    "(x_train, y_train), (x_test, y_test) = mnist.load_data()"
   ]
  },
  {
   "cell_type": "code",
   "execution_count": 3,
   "id": "5907341c",
   "metadata": {},
   "outputs": [
    {
     "name": "stdout",
     "output_type": "stream",
     "text": [
      "Train: X=(60000, 28, 28), y=(60000,)\n",
      "Test: X=(10000, 28, 28), y=(10000,)\n"
     ]
    },
    {
     "data": {
      "image/png": "[encoded data removed]",
      "text/plain": [
       "<Figure size 432x288 with 9 Axes>"
      ]
     },
     "metadata": {
      "needs_background": "light"
     },
     "output_type": "display_data"
    }
   ],
   "source": [
    "from matplotlib import pyplot as plt\n",
    "\n",
    "print('Train: X=%s, y=%s' % (x_train.shape, y_train.shape))\n",
    "print('Test: X=%s, y=%s' % (x_test.shape, y_test.shape))\n",
    "# plot first few images\n",
    "for i in range(9):\n",
    "    plt.subplot(330 + 1 + i)\n",
    "    plt.imshow(x_train[i], cmap=plt.get_cmap('gray'))\n",
    "plt.show()"
   ]
  },
  {
   "cell_type": "code",
   "execution_count": 4,
   "id": "b0405fa7",
   "metadata": {},
   "outputs": [],
   "source": [
    "img_rows, img_cols=28, 28\n",
    "\n",
    "x_train = x_train.reshape(x_train.shape[0], img_rows * img_cols)\n",
    "x_test = x_test.reshape(x_test.shape[0], img_rows * img_cols)\n",
    " \n",
    "x_train = x_train.astype('float32')\n",
    "x_test = x_test.astype('float32')\n",
    "x_train /= 255\n",
    "x_test /= 255"
   ]
  },
  {
   "cell_type": "code",
   "execution_count": 5,
   "id": "dcf6f942",
   "metadata": {},
   "outputs": [
    {
     "name": "stdout",
     "output_type": "stream",
     "text": [
      "60000\n",
      "10000\n"
     ]
    },
    {
     "data": {
      "text/plain": [
       "784"
      ]
     },
     "execution_count": 5,
     "metadata": {},
     "output_type": "execute_result"
    }
   ],
   "source": [
    "y_train = keras.utils.to_categorical(y_train)\n",
    "y_test = keras.utils.to_categorical(y_test)\n",
    "\n",
    "print(len(y_train))\n",
    "print(len(y_test))\n",
    "x_train.shape[1]\n"
   ]
  },
  {
   "cell_type": "markdown",
   "id": "e61a7948",
   "metadata": {},
   "source": [
    "# Defining network"
   ]
  },
  {
   "cell_type": "code",
   "execution_count": 6,
   "id": "53f9cf89",
   "metadata": {},
   "outputs": [],
   "source": [
    "def relu(x):\n",
    "    return np.maximum(x, 0)\n",
    "\n",
    "def softmax(x):\n",
    "    x = x - x.max(axis=1, keepdims=True)\n",
    "    y = np.exp(x)\n",
    "    return y / y.sum(axis=1, keepdims=True)\n",
    "    \n",
    "\n",
    "class network():\n",
    "    def __init__(self, num_input_neurons, num_hidden_neurons, num_out_neurons):\n",
    "        def init_weights(input_neurons, output_neurons):\n",
    "            # Use Glorot/Xavier initialization\n",
    "            limit = np.sqrt(6 / float(input_neurons + output_neurons))\n",
    "            return np.random.uniform(low=-limit, high=limit, size=(input_neurons, output_neurons))\n",
    "        \n",
    "        self.w0 = init_weights(num_input_neurons, num_hidden_neurons)\n",
    "        self.w1 = init_weights(num_hidden_neurons, num_out_neurons)\n",
    "        \n",
    "        self.b0 = np.zeros(num_hidden_neurons, dtype=float)\n",
    "        self.b1 = np.zeros(num_out_neurons, dtype=float)\n",
    "    \n",
    "    def forward(self, x, save_x = True):\n",
    "        x = np.matmul(x, self.w0) + self.b0\n",
    "        if save_x:\n",
    "            self.saved_x0 = x.copy()\n",
    "        x = relu(x)\n",
    "        if save_x:\n",
    "            self.saved_x1 = x.copy()\n",
    "        x = np.matmul(x, self.w1) + self.b1\n",
    "        x = softmax(x)\n",
    "        return x\n",
    "    \n",
    "# test\n",
    "test_out = network(x_train.shape[1], 100, 10).forward(x_train[0:8])\n",
    "assert test_out.shape == (8, 10)\n",
    "        \n",
    "        "
   ]
  },
  {
   "cell_type": "markdown",
   "id": "f6937085",
   "metadata": {},
   "source": [
    "### Training functions:"
   ]
  },
  {
   "cell_type": "code",
   "execution_count": 7,
   "id": "a8e1e5a8",
   "metadata": {},
   "outputs": [],
   "source": [
    "def der_relu(x):\n",
    "    return np.where(x > 0.0, 1, 0)\n",
    "\n",
    "def calc_cross_entropy(y_true, y_predicted):\n",
    "    return np.mean(-np.sum(y_true * np.log(y_predicted), axis=1))\n",
    "\n",
    "def backward_prop(network, x_train, y_predicted, y_true, lr):\n",
    "    def pshape(var, name):\n",
    "        print(\"{}.shape = {}\".format(name, var.shape))\n",
    "    out_error = (y_predicted - y_true) / x_train.shape[0]\n",
    "    hidden_error = np.matmul(out_error, network.w1.T) * der_relu(network.saved_x0)\n",
    "    \n",
    "    network.w1 -= lr * np.matmul(network.saved_x1.T, out_error)\n",
    "    network.b1 -= lr * np.sum(out_error, axis=0)\n",
    "    network.w0 -= lr * np.matmul(x_train.T, hidden_error)\n",
    "    network.b0 -= lr * np.sum(hidden_error, axis=0)\n",
    "\n",
    "def calc_accuracy(y_true, y_pred):\n",
    "    return np.mean(np.argmax(y_true, axis=1) == np.argmax(y_pred, axis=1))\n",
    "\n",
    "def evaluate(network, x_train, y_train):\n",
    "    y_pred = network.forward(x_train, save_x=False)\n",
    "    loss = calc_cross_entropy(y_train, y_pred)\n",
    "    acc = calc_accuracy(y_train, y_pred)\n",
    "    return loss, acc"
   ]
  },
  {
   "cell_type": "code",
   "execution_count": 8,
   "id": "51e0c342",
   "metadata": {},
   "outputs": [],
   "source": [
    "from datetime import datetime\n",
    "\n",
    "def train(network, x_train, y_train, x_test, y_test, epochs=20, lr=0.1, batch_size=8):\n",
    "        print('Начало обучения...')\n",
    "        start = datetime.now()\n",
    "        for epoch in range(epochs):\n",
    "            epoch_start = datetime.now()\n",
    "            for i in range(x_train.shape[0] // batch_size):\n",
    "                begin_idx = i * batch_size\n",
    "                end_idx = min((i + 1) * batch_size, y_train.shape[0])\n",
    "                \n",
    "                y_pred = network.forward(x_train[begin_idx:end_idx])\n",
    "                backward_prop(network, x_train[begin_idx:end_idx], y_pred, y_train[begin_idx:end_idx], lr)\n",
    "\n",
    "            epoch_end = datetime.now()\n",
    "            epoch_time = (epoch_end - epoch_start).total_seconds()\n",
    "            loss, acc = evaluate(network, x_train, y_train)\n",
    "            print('Эпоха #{}, время эпохи = {} сек, Accuracy = {}%, Loss = {}'.format(epoch + 1, epoch_time, acc * 100, loss))\n",
    "        end = datetime.now()\n",
    "        training_time = (end - start).total_seconds()\n",
    "        print('Обучение завершено за {} сек!'.format(training_time))"
   ]
  },
  {
   "cell_type": "markdown",
   "id": "097ae791",
   "metadata": {},
   "source": [
    "# Experiment"
   ]
  },
  {
   "cell_type": "markdown",
   "id": "72ef8f1e",
   "metadata": {},
   "source": [
    "### Hyper parameters"
   ]
  },
  {
   "cell_type": "code",
   "execution_count": 9,
   "id": "16212b78",
   "metadata": {},
   "outputs": [],
   "source": [
    "hidden_layer_num = 300\n",
    "lr = 0.1\n",
    "num_classes = 10\n",
    "batch_size = 64\n",
    "epochs_num = 20"
   ]
  },
  {
   "cell_type": "code",
   "execution_count": 10,
   "id": "20bee318",
   "metadata": {},
   "outputs": [
    {
     "name": "stdout",
     "output_type": "stream",
     "text": [
      "Начало обучения...\n",
      "Эпоха #1, время эпохи = 1.611894 сек, Accuracy = 93.44666666666667%, Loss = 0.2238037495930919\n",
      "Эпоха #2, время эпохи = 1.55939 сек, Accuracy = 95.48666666666666%, Loss = 0.15467616281535054\n",
      "Эпоха #3, время эпохи = 1.560094 сек, Accuracy = 96.55%, Loss = 0.12050700438700702\n",
      "Эпоха #4, время эпохи = 1.593822 сек, Accuracy = 97.21666666666667%, Loss = 0.09805331638633323\n",
      "Эпоха #5, время эпохи = 1.536918 сек, Accuracy = 97.67333333333333%, Loss = 0.08219064213866425\n",
      "Эпоха #6, время эпохи = 1.548225 сек, Accuracy = 98.01666666666667%, Loss = 0.0705462749822503\n",
      "Эпоха #7, время эпохи = 1.554531 сек, Accuracy = 98.26333333333334%, Loss = 0.062163698813955996\n",
      "Эпоха #8, время эпохи = 1.54749 сек, Accuracy = 98.47333333333333%, Loss = 0.05525504245887687\n",
      "Эпоха #9, время эпохи = 1.53743 сек, Accuracy = 98.64500000000001%, Loss = 0.04962045232148958\n",
      "Эпоха #10, время эпохи = 1.575999 сек, Accuracy = 98.79666666666667%, Loss = 0.04503096993197459\n",
      "Эпоха #11, время эпохи = 1.613751 сек, Accuracy = 98.905%, Loss = 0.04092364198930032\n",
      "Эпоха #12, время эпохи = 1.555282 сек, Accuracy = 98.995%, Loss = 0.03755988278401704\n",
      "Эпоха #13, время эпохи = 1.534877 сек, Accuracy = 99.1%, Loss = 0.03448134629229815\n",
      "Эпоха #14, время эпохи = 1.533524 сек, Accuracy = 99.18333333333334%, Loss = 0.031794425081124345\n",
      "Эпоха #15, время эпохи = 1.519399 сек, Accuracy = 99.28333333333333%, Loss = 0.029321227408062575\n",
      "Эпоха #16, время эпохи = 1.53843 сек, Accuracy = 99.33166666666666%, Loss = 0.027198592523151193\n",
      "Эпоха #17, время эпохи = 1.544447 сек, Accuracy = 99.38166666666667%, Loss = 0.025376751654062987\n",
      "Эпоха #18, время эпохи = 1.544585 сек, Accuracy = 99.44333333333333%, Loss = 0.023574169137120064\n",
      "Эпоха #19, время эпохи = 1.566699 сек, Accuracy = 99.49166666666667%, Loss = 0.022052911736310243\n",
      "Эпоха #20, время эпохи = 1.552898 сек, Accuracy = 99.53666666666666%, Loss = 0.02054955633356583\n",
      "Обучение завершено за 39.451902 сек!\n"
     ]
    }
   ],
   "source": [
    "net = network(x_train.shape[1], hidden_layer_num, num_classes)\n",
    "train(net, x_train, y_train, x_test, y_test, epochs=epochs_num, lr=lr, batch_size=batch_size)"
   ]
  },
  {
   "cell_type": "code",
   "execution_count": 11,
   "id": "1f20c316",
   "metadata": {},
   "outputs": [
    {
     "name": "stdout",
     "output_type": "stream",
     "text": [
      "Была достигнута точность 97.95% и loss 0.06769829815414127 на тестовом наборе данных\n"
     ]
    }
   ],
   "source": [
    "loss, acc = evaluate(net, x_test, y_test)\n",
    "print('Была достигнута точность {}% и loss {} на тестовом наборе данных'.format(acc * 100, loss))"
   ]
  }
 ],
 "metadata": {
  "kernelspec": {
   "display_name": "Python 3",
   "language": "python",
   "name": "python3"
  },
  "language_info": {
   "codemirror_mode": {
    "name": "ipython",
    "version": 3
   },
   "file_extension": ".py",
   "mimetype": "text/x-python",
   "name": "python",
   "nbconvert_exporter": "python",
   "pygments_lexer": "ipython3",
   "version": "3.8.8"
  }
 },
 "nbformat": 4,
 "nbformat_minor": 5
}
