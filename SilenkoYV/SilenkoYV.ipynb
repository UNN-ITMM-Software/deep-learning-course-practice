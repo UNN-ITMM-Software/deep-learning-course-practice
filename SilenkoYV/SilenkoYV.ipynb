{
 "cells": [
  {
   "cell_type": "markdown",
   "metadata": {},
   "source": [
    "# Практическая работа:\n",
    "## Реализация метода обратного распространения ошибки для двухслойной полностью связанной нейронной сети"
   ]
  },
  {
   "cell_type": "markdown",
   "metadata": {},
   "source": [
    "### Цель работы \n",
    "Цель настоящей работы состоит в том, чтобы изучить метод обратного распространения ошибки для обучения глубоких нейронных сетей на примере двухслойной полностью связанной сети (один скрытый слой).\n",
    "\n",
    "### Задачи работы\n",
    "Метод обратного распространения ошибки разрабатывается, исходя из следующих предположений:\n",
    "\n",
    "1. На входе сети имеется w×h нейронов, что соответствует разрешению одноканального изображения (параметр; для изображений в базе MNIST составляет 28x28).\n",
    "2. На выходе сети имеется k нейронов, что соответствует количеству классов изображений (параметр; для задачи классификации рукописных цифр – 10 классов).\n",
    "3. Скрытый слой содержит s нейронов (параметр).\n",
    "4. В качестве функции активации на скрытом слое используется функция ReLU.\n",
    "5. В качестве функции активации на выходном слое используется функция softmax.\n",
    "6. В качестве функции ошибки используется кросс-энтропия.\n",
    "7. Скорость обучения, размер пачки данных, количество эпох являются параметрами метода обучения."
   ]
  },
  {
   "cell_type": "code",
   "execution_count": 1,
   "metadata": {
    "scrolled": false
   },
   "outputs": [],
   "source": [
    "import numpy as np\n",
    "from keras.datasets import mnist\n",
    "from keras.utils import np_utils\n",
    "from matplotlib import pyplot as plt\n",
    "import time\n",
    "import random\n",
    "from random import randint\n",
    "import torch\n",
    "import torch.nn"
   ]
  },
  {
   "cell_type": "markdown",
   "metadata": {},
   "source": [
    "# 0) Загрузка данных. "
   ]
  },
  {
   "cell_type": "code",
   "execution_count": 70,
   "metadata": {},
   "outputs": [
    {
     "data": {
      "image/png": "[encoded data removed]",
      "text/plain": [
       "<Figure size 432x288 with 9 Axes>"
      ]
     },
     "metadata": {},
     "output_type": "display_data"
    },
    {
     "name": "stdout",
     "output_type": "stream",
     "text": [
      "train_x.shape = (60000, 784), train_y.shape = (60000, 10)\n",
      "test_x.shape = (10000, 784), test_y.shape = (10000, 10)\n"
     ]
    }
   ],
   "source": [
    "# Загрузка данных MNIST\n",
    "(train_x, train_y), (test_x, test_y) = mnist.load_data()\n",
    "\n",
    "# Посмотрим на первые 9 примеров из тренировочной выборки\n",
    "for i in range(9) :\n",
    "    plt.subplot(3, 3, i+1)\n",
    "    plt.xticks([])\n",
    "    plt.yticks([])\n",
    "    plt.grid(False)\n",
    "    plt.imshow(train_x[i], cmap=plt.cm.binary)\n",
    "    plt.xlabel(train_y[i])\n",
    "plt.show()\n",
    "\n",
    "\n",
    "# Размер изображений в базе MNIST составляет 28x28\n",
    "train_x = train_x.reshape(train_x.shape[0], 28 * 28)\n",
    "test_x = test_x.reshape(test_x.shape[0], 28 * 28)\n",
    "\n",
    "train_x = train_x.astype('float32')\n",
    "test_x = test_x.astype('float32')\n",
    "\n",
    "# Нормируем интервал значений пикселей из [0, 255] в [0, 1]\n",
    "train_x = train_x/255.0\n",
    "test_x = test_x/255.0 \n",
    "\n",
    "# Изначально после загрузки train_y и test_y - одномерные массивы, \n",
    "# в элементах которых записан номер класса соответствующего элемента.\n",
    "# Преобразуем их в двумерную матрицу, где каждому элементу x будет соответствовать строка из 9 нулей\n",
    "# и одной 1, стоящей на позиции номера класса. \n",
    "# В наборе MNIST 10 классов.\n",
    "train_y = np.eye(10)[train_y]\n",
    "test_y = np.eye(10)[test_y]\n",
    "\n",
    "print('train_x.shape = {}, train_y.shape = {}'.format(train_x.shape, train_y.shape))\n",
    "print('test_x.shape = {}, test_y.shape = {}'.format(test_x.shape, test_y.shape))\n"
   ]
  },
  {
   "cell_type": "markdown",
   "metadata": {},
   "source": [
    "# 1) Проектирование и разработка программной реализации метода обратного распространения ошибки"
   ]
  },
  {
   "cell_type": "markdown",
   "metadata": {},
   "source": [
    "## Метод обратного распространения ошибки\n",
    "\n",
    "<b> Инициализация синаптических весов сети </b> (случайным образом из некоторого распределения)\n",
    "\n",
    "Повторение следующих шагов для каждого примера\n",
    "тренировочного набора данных\n",
    "* 1\\. Прямой проход:\n",
    "    * 1.1 Вычисление значений выходных сигналов нейронов всех слоев\n",
    "    * 1.2 Вычисление значений производных функций активации на каждом слое сети \n",
    "* 2\\. Обратный проход:\n",
    "    * 2.1. Вычисление значения целевой функции и ее градиента\n",
    "    * 2.2. Корректировка синаптических весов\n",
    "\n",
    "\n",
    "В качестве <b>функции активации</b>:\n",
    "* на скрытом слое используется функция ReLU.\n",
    "* на выходном слое используется функция softmax.\n",
    "В качестве функции ошибки используется кросс-энтропия. \n",
    "\n",
    "<b>Критерии остановки:</b> число итераций метода (количество\n",
    "проходов по всему множеству примеров), достигнутая\n",
    "ошибка\n"
   ]
  },
  {
   "cell_type": "code",
   "execution_count": 71,
   "metadata": {},
   "outputs": [],
   "source": [
    "# В качестве функции активации на скрытом слое используется функция ReLU\n",
    "def ReLU(x):\n",
    "    return np.maximum(0, x)\n",
    "\n",
    "# В качестве функции активации на выходном слое используется функция softmax.\n",
    "def softmax(x):\n",
    "    exp_x = np.exp(x)\n",
    "    return exp_x / np.sum(exp_x, axis = 1, keepdims = True)\n",
    "\n",
    "# В качестве функции ошибки используется кросс-энтропия.\n",
    "def crossEntropyLoss(y, u):\n",
    "    return np.mean(-np.sum(y * np.log(u), axis = 1))\n",
    "\n",
    "# Функция подсчета точности на тестовой или обучающей выборке\n",
    "def accuracy(x, y):\n",
    "    return np.mean(np.argmax(x, axis = 1) == np.argmax(y, axis = 1))"
   ]
  },
  {
   "cell_type": "code",
   "execution_count": 86,
   "metadata": {},
   "outputs": [],
   "source": [
    "class NeuralNetwork:\n",
    "    # input_layer  - количество нейронов на входе\n",
    "    # hidden_layer - количество нейронов на скрытом слое\n",
    "    # output_layer - количество нейронов на выходе\n",
    "    def __init__(self, \n",
    "                 input_neurons = 28 * 28, # количество нейронов на входе, что соответствует разрешению одноканального изображения \n",
    "                                          # (параметр; для изображений в базе MNIST составляет 28x28)\n",
    "                 hidden_neurons = 300,  # количество нейронов на скрытом слое\n",
    "                \n",
    "                 output_neurons = 10):  # количество нейронов на выходе, что соответствует количеству классов изображений \n",
    "                                        # (параметр; для задачи классификации рукописных цифр – 10 классов)\n",
    "        \n",
    "        # Синаптические веса \n",
    "        self.w1 = np.random.randn(input_neurons, hidden_neurons) * 0.01\n",
    "        self.w2 = np.random.randn(hidden_neurons, output_neurons) * 0.01\n",
    "        \n",
    "        # Воздействие внешней среды (сдвиги), представляется свободным членом\n",
    "        self.b1 = np.zeros((1, hidden_neurons))\n",
    "        self.b2 = np.zeros((1, output_neurons))\n",
    "\n",
    "    # Прямой проход\n",
    "    def forward(self, x):\n",
    "        \n",
    "        self.vs = np.dot(x, self.w1) + self.b1 # выходной сигнал нейрона скрытого слоя\n",
    "        self.vs_ReLU = ReLU(self.vs) # преобразования сигнала с помощью функции активации ReLU\n",
    "        \n",
    "        self.uj = np.dot(self.vs_ReLU, self.w2) + self.b2 # выходной сигнал\n",
    "        self.uj_softmax = softmax(self.uj) #преобразования сигнала с помощью функции активации softmax\n",
    "\n",
    " \n",
    "    # Обратный проход (на базе стохастического градиентного спуска)\n",
    "    def backward(self, x, y, learning_rate):\n",
    "        \n",
    "        # вычисление градиента функции ошибки\n",
    "        duj = (self.uj_softmax - y) / self.uj_softmax.shape[0]\n",
    "        dw2 = (self.vs_ReLU.T).dot(duj)\n",
    "        db2 = np.sum(duj, axis = 0, keepdims = True)\n",
    "        dReLU = np.where(self.vs > 0, 1, 0)\n",
    "        dvs = duj.dot(self.w2.T) * dReLU\n",
    "        dw1 = np.dot(x.T, dvs)\n",
    "        db1 = np.sum(dvs, axis = 0, keepdims = True)\n",
    "        \n",
    "        # Корректировка синаптических весов\n",
    "        self.w2 -= learning_rate * dw2\n",
    "        self.b2 -= learning_rate * db2\n",
    "        self.w1 -= learning_rate * dw1\n",
    "        self.b1 -= learning_rate * db1\n",
    "    \n",
    "    # Обучение\n",
    "    def train(self, x, y, \n",
    "              epochs,     # коичество эпох\n",
    "              batch_size, # размер пачки\n",
    "              learning_rate): # скорость обучения\n",
    "        \n",
    "        start = time.time()\n",
    "        for epoch in range(epochs):\n",
    "            start_epoch = time.time()\n",
    "            for i in range(0, len(x), batch_size):\n",
    "                x_curr = x[i : i + batch_size]\n",
    "                y_curr = y[i : i + batch_size]\n",
    "                self.forward(x_curr)\n",
    "                self.backward(x_curr, y_curr, learning_rate)\n",
    "        \n",
    "            self.forward(x)\n",
    "            print('Epoch: {}; Loss: {:.4f}; Accuracy: {:.4f}; Time: {:.4f};'\n",
    "                .format(epoch, crossEntropyLoss(y, self.uj_softmax), \n",
    "                accuracy(y, self.uj_softmax), time.time() - start_epoch))\n",
    "        general_train_time = time.time() - start\n",
    "        print(f\"total time =  {general_train_time:.4f}\")\n",
    "    \n",
    "    # Тестирование\n",
    "    def test(self, x, y):\n",
    "        start = time.time()\n",
    "        self.forward(x)\n",
    "        print('accuracy test: {:.4f}; Loss: {:.4f}; Time = {:.4f}'\n",
    "                .format(accuracy(y, self.uj_softmax), crossEntropyLoss(y, self.uj_softmax), \n",
    "                 time.time() - start))\n",
    "\n",
    "   "
   ]
  },
  {
   "cell_type": "markdown",
   "metadata": {},
   "source": [
    "# 2) Тестирование разработанной программной реализации"
   ]
  },
  {
   "cell_type": "markdown",
   "metadata": {},
   "source": [
    "Обучение модели"
   ]
  },
  {
   "cell_type": "code",
   "execution_count": 91,
   "metadata": {},
   "outputs": [
    {
     "name": "stdout",
     "output_type": "stream",
     "text": [
      "Epoch: 0; Loss: 0.1203; Accuracy: 0.9625; Time: 36.3346;\n",
      "Epoch: 1; Loss: 0.0779; Accuracy: 0.9748; Time: 36.3117;\n",
      "Epoch: 2; Loss: 0.0558; Accuracy: 0.9820; Time: 36.5555;\n",
      "Epoch: 3; Loss: 0.0431; Accuracy: 0.9859; Time: 36.4737;\n",
      "Epoch: 4; Loss: 0.0330; Accuracy: 0.9889; Time: 36.2421;\n",
      "Epoch: 5; Loss: 0.0294; Accuracy: 0.9903; Time: 36.4091;\n",
      "Epoch: 6; Loss: 0.0237; Accuracy: 0.9918; Time: 36.4794;\n",
      "Epoch: 7; Loss: 0.0201; Accuracy: 0.9927; Time: 36.5544;\n",
      "Epoch: 8; Loss: 0.0165; Accuracy: 0.9944; Time: 36.5520;\n",
      "Epoch: 9; Loss: 0.0136; Accuracy: 0.9958; Time: 36.3693;\n",
      "Epoch: 10; Loss: 0.0096; Accuracy: 0.9971; Time: 37.0596;\n",
      "Epoch: 11; Loss: 0.0039; Accuracy: 0.9991; Time: 37.9252;\n",
      "Epoch: 12; Loss: 0.0028; Accuracy: 0.9995; Time: 36.9733;\n",
      "Epoch: 13; Loss: 0.0017; Accuracy: 0.9998; Time: 36.4384;\n",
      "Epoch: 14; Loss: 0.0013; Accuracy: 0.9999; Time: 36.3162;\n",
      "Epoch: 15; Loss: 0.0011; Accuracy: 1.0000; Time: 36.2723;\n",
      "Epoch: 16; Loss: 0.0009; Accuracy: 1.0000; Time: 36.3176;\n",
      "Epoch: 17; Loss: 0.0008; Accuracy: 1.0000; Time: 36.3585;\n",
      "Epoch: 18; Loss: 0.0007; Accuracy: 1.0000; Time: 36.2261;\n",
      "Epoch: 19; Loss: 0.0006; Accuracy: 1.0000; Time: 36.3529;\n",
      "total time =  730.5290\n"
     ]
    }
   ],
   "source": [
    "# Контрольный набор параметров\n",
    "batch_size = 8 # от 8 до 64\n",
    "learning_rate = 0.1\n",
    "hidden_neurons = 300\n",
    "num_epochs = 20\n",
    "\n",
    "network = NeuralNetwork()\n",
    "network.train(train_x, train_y, num_epochs, batch_size, learning_rate)"
   ]
  },
  {
   "cell_type": "code",
   "execution_count": 92,
   "metadata": {},
   "outputs": [
    {
     "name": "stdout",
     "output_type": "stream",
     "text": [
      "accuracy test: 0.9841; Loss: 0.0749; Time = 0.3322\n"
     ]
    }
   ],
   "source": [
    "network.test(test_x, test_y)"
   ]
  },
  {
   "cell_type": "code",
   "execution_count": 93,
   "metadata": {},
   "outputs": [
    {
     "name": "stdout",
     "output_type": "stream",
     "text": [
      "Epoch: 0; Loss: 0.1463; Accuracy: 0.9546; Time: 19.7846;\n",
      "Epoch: 1; Loss: 0.0878; Accuracy: 0.9727; Time: 19.7405;\n",
      "Epoch: 2; Loss: 0.0645; Accuracy: 0.9800; Time: 19.8275;\n",
      "Epoch: 3; Loss: 0.0504; Accuracy: 0.9842; Time: 19.8773;\n",
      "Epoch: 4; Loss: 0.0414; Accuracy: 0.9864; Time: 20.1547;\n",
      "Epoch: 5; Loss: 0.0339; Accuracy: 0.9895; Time: 19.9791;\n",
      "Epoch: 6; Loss: 0.0314; Accuracy: 0.9899; Time: 20.6945;\n",
      "Epoch: 7; Loss: 0.0252; Accuracy: 0.9917; Time: 22.3425;\n",
      "Epoch: 8; Loss: 0.0202; Accuracy: 0.9939; Time: 19.8494;\n",
      "Epoch: 9; Loss: 0.0173; Accuracy: 0.9947; Time: 19.8816;\n",
      "Epoch: 10; Loss: 0.0155; Accuracy: 0.9954; Time: 19.8191;\n",
      "Epoch: 11; Loss: 0.0132; Accuracy: 0.9962; Time: 19.9553;\n",
      "Epoch: 12; Loss: 0.0115; Accuracy: 0.9970; Time: 20.1550;\n",
      "Epoch: 13; Loss: 0.0097; Accuracy: 0.9977; Time: 19.9254;\n",
      "Epoch: 14; Loss: 0.0071; Accuracy: 0.9986; Time: 19.8918;\n",
      "Epoch: 15; Loss: 0.0055; Accuracy: 0.9990; Time: 19.8280;\n",
      "Epoch: 16; Loss: 0.0046; Accuracy: 0.9993; Time: 19.7959;\n",
      "Epoch: 17; Loss: 0.0040; Accuracy: 0.9995; Time: 19.8606;\n",
      "Epoch: 18; Loss: 0.0035; Accuracy: 0.9996; Time: 19.8503;\n",
      "Epoch: 19; Loss: 0.0031; Accuracy: 0.9997; Time: 19.8674;\n",
      "total time =  401.0904\n"
     ]
    }
   ],
   "source": [
    "# Контрольный набор параметров\n",
    "batch_size = 16 # от 8 до 64\n",
    "learning_rate = 0.1\n",
    "hidden_neurons = 300\n",
    "num_epochs = 20\n",
    "\n",
    "network = NeuralNetwork()\n",
    "network.train(train_x, train_y, num_epochs, batch_size, learning_rate)"
   ]
  },
  {
   "cell_type": "code",
   "execution_count": 94,
   "metadata": {},
   "outputs": [
    {
     "name": "stdout",
     "output_type": "stream",
     "text": [
      "accuracy test: 0.9822; Loss: 0.0717; Time = 0.3292\n"
     ]
    }
   ],
   "source": [
    "network.test(test_x, test_y)"
   ]
  },
  {
   "cell_type": "code",
   "execution_count": 95,
   "metadata": {},
   "outputs": [
    {
     "name": "stdout",
     "output_type": "stream",
     "text": [
      "Epoch: 0; Loss: 0.2845; Accuracy: 0.9148; Time: 6.9712;\n",
      "Epoch: 1; Loss: 0.2028; Accuracy: 0.9407; Time: 7.0786;\n",
      "Epoch: 2; Loss: 0.1546; Accuracy: 0.9551; Time: 7.1087;\n",
      "Epoch: 3; Loss: 0.1240; Accuracy: 0.9644; Time: 7.3759;\n",
      "Epoch: 4; Loss: 0.1034; Accuracy: 0.9704; Time: 7.1907;\n",
      "Epoch: 5; Loss: 0.0884; Accuracy: 0.9747; Time: 7.0977;\n",
      "Epoch: 6; Loss: 0.0773; Accuracy: 0.9779; Time: 7.1094;\n",
      "Epoch: 7; Loss: 0.0682; Accuracy: 0.9807; Time: 7.0940;\n",
      "Epoch: 8; Loss: 0.0608; Accuracy: 0.9830; Time: 7.0753;\n",
      "Epoch: 9; Loss: 0.0545; Accuracy: 0.9849; Time: 7.0693;\n",
      "Epoch: 10; Loss: 0.0494; Accuracy: 0.9863; Time: 7.0939;\n",
      "Epoch: 11; Loss: 0.0449; Accuracy: 0.9875; Time: 7.2111;\n",
      "Epoch: 12; Loss: 0.0411; Accuracy: 0.9885; Time: 7.0679;\n",
      "Epoch: 13; Loss: 0.0375; Accuracy: 0.9897; Time: 7.0314;\n",
      "Epoch: 14; Loss: 0.0345; Accuracy: 0.9908; Time: 7.0334;\n",
      "Epoch: 15; Loss: 0.0319; Accuracy: 0.9917; Time: 7.0304;\n",
      "Epoch: 16; Loss: 0.0295; Accuracy: 0.9923; Time: 7.0138;\n",
      "Epoch: 17; Loss: 0.0273; Accuracy: 0.9932; Time: 7.0098;\n",
      "Epoch: 18; Loss: 0.0254; Accuracy: 0.9938; Time: 7.1121;\n",
      "Epoch: 19; Loss: 0.0237; Accuracy: 0.9944; Time: 7.0949;\n",
      "total time =  141.8733\n"
     ]
    }
   ],
   "source": [
    "# Контрольный набор параметров\n",
    "batch_size = 64 # от 8 до 64\n",
    "learning_rate = 0.1\n",
    "hidden_neurons = 300\n",
    "num_epochs = 20\n",
    "\n",
    "network = NeuralNetwork()\n",
    "network.train(train_x, train_y, num_epochs, batch_size, learning_rate)"
   ]
  },
  {
   "cell_type": "code",
   "execution_count": 96,
   "metadata": {},
   "outputs": [
    {
     "name": "stdout",
     "output_type": "stream",
     "text": [
      "accuracy test: 0.9790; Loss: 0.0675; Time = 0.3231\n"
     ]
    }
   ],
   "source": [
    "network.test(test_x, test_y)"
   ]
  },
  {
   "cell_type": "markdown",
   "metadata": {},
   "source": [
    "# 3) Сравнение со стандартными инструментами глубокого обучения (PyTorch)"
   ]
  },
  {
   "cell_type": "code",
   "execution_count": 97,
   "metadata": {},
   "outputs": [
    {
     "name": "stdout",
     "output_type": "stream",
     "text": [
      "NNetwork(\n",
      "  (linear1): Linear(in_features=784, out_features=300, bias=True)\n",
      "  (relu): ReLU()\n",
      "  (linear2): Linear(in_features=300, out_features=10, bias=True)\n",
      ")\n"
     ]
    }
   ],
   "source": [
    "class NNetwork(torch.nn.Module):\n",
    "    def __init__(self):\n",
    "        super(NNetwork, self).__init__()\n",
    "        self.linear1 = torch.nn.Linear(28*28, hidden_neurons)\n",
    "        self.relu = torch.nn.ReLU()\n",
    "        self.linear2 = torch.nn.Linear(hidden_neurons, 10)\n",
    "        \n",
    "      \n",
    "    def forward(self, x):\n",
    "        x = self.linear1(x)\n",
    "        x = self.relu(x)\n",
    "        x = self.linear2(x)\n",
    "        return torch.nn.functional.log_softmax(x, dim = 1)\n",
    "\n",
    "\n",
    "nnetwork = NNetwork()\n",
    "print(nnetwork)"
   ]
  },
  {
   "cell_type": "code",
   "execution_count": 98,
   "metadata": {},
   "outputs": [
    {
     "name": "stdout",
     "output_type": "stream",
     "text": [
      "Epoch: 0; Loss: 0.1044; Accuracy: 0.9214; Time: 2.1381;\n",
      "Epoch: 1; Loss: 0.0540; Accuracy: 0.9452; Time: 2.1939;\n",
      "Epoch: 2; Loss: 0.0372; Accuracy: 0.9581; Time: 2.0055;\n",
      "Epoch: 3; Loss: 0.0316; Accuracy: 0.9664; Time: 2.3596;\n",
      "Epoch: 4; Loss: 0.0286; Accuracy: 0.9721; Time: 2.4624;\n",
      "Epoch: 5; Loss: 0.0274; Accuracy: 0.9768; Time: 2.2242;\n",
      "Epoch: 6; Loss: 0.0261; Accuracy: 0.9801; Time: 2.3945;\n",
      "Epoch: 7; Loss: 0.0261; Accuracy: 0.9827; Time: 2.1764;\n",
      "Epoch: 8; Loss: 0.0239; Accuracy: 0.9843; Time: 2.4347;\n",
      "Epoch: 9; Loss: 0.0208; Accuracy: 0.9859; Time: 2.1180;\n",
      "Epoch: 10; Loss: 0.0194; Accuracy: 0.9874; Time: 2.3250;\n",
      "Epoch: 11; Loss: 0.0169; Accuracy: 0.9887; Time: 2.1673;\n",
      "Epoch: 12; Loss: 0.0145; Accuracy: 0.9900; Time: 2.2252;\n",
      "Epoch: 13; Loss: 0.0128; Accuracy: 0.9909; Time: 2.1313;\n",
      "Epoch: 14; Loss: 0.0114; Accuracy: 0.9916; Time: 2.1316;\n",
      "Epoch: 15; Loss: 0.0095; Accuracy: 0.9923; Time: 2.2459;\n",
      "Epoch: 16; Loss: 0.0085; Accuracy: 0.9931; Time: 2.2315;\n",
      "Epoch: 17; Loss: 0.0075; Accuracy: 0.9940; Time: 2.2707;\n",
      "Epoch: 18; Loss: 0.0066; Accuracy: 0.9948; Time: 2.0687;\n",
      "Epoch: 19; Loss: 0.0059; Accuracy: 0.9952; Time: 2.1093;\n",
      "total time = 44.4186\n"
     ]
    }
   ],
   "source": [
    "def accuracy(x, y):\n",
    "        return np.mean(np.argmax(x, axis = 1) == np.argmax(y, axis = 1))\n",
    "\n",
    "loss_function = torch.nn.CrossEntropyLoss()\n",
    "optimizer = torch.optim.SGD(nnetwork.parameters(), lr = learning_rate)\n",
    "\n",
    "start = time.time()\n",
    "for epoch in range(num_epochs):\n",
    "    start_epoch = time.time()\n",
    "    for i in range(0, len(train_x), batch_size):\n",
    "        x_curr = torch.tensor(train_x[i : i + batch_size])\n",
    "        y_curr = torch.tensor(train_y[i : i + batch_size]) \n",
    "        \n",
    "        # Прямой проход\n",
    "        outputs = nnetwork(x_curr) \n",
    "        loss = loss_function(outputs, y_curr) \n",
    "        \n",
    "        # Обратный проход\n",
    "        optimizer.zero_grad() \n",
    "        loss.backward() \n",
    "        optimizer.step() \n",
    "        \n",
    "    print('Epoch: {}; Loss: {:.4f}; Accuracy: {:.4f}; Time: {:.4f};'\n",
    "                .format(epoch, loss.item(), \n",
    "                accuracy(nnetwork(torch.tensor(train_x)).detach().numpy(), train_y),\n",
    "                time.time() - start_epoch))\n",
    "\n",
    "\n",
    "general_train_time = time.time() - start\n",
    "print(f\"total time = {general_train_time:.4f}\")"
   ]
  },
  {
   "cell_type": "code",
   "execution_count": 101,
   "metadata": {},
   "outputs": [
    {
     "name": "stdout",
     "output_type": "stream",
     "text": [
      "accuracy test 0.9798\n"
     ]
    }
   ],
   "source": [
    "print('accuracy test {:.4f}'\n",
    "                .format(accuracy(nnetwork(torch.tensor(test_x)).detach().numpy(), test_y)))"
   ]
  },
  {
   "cell_type": "markdown",
   "metadata": {},
   "source": [
    "# 4) Вывод\n",
    "\n",
    "В рамках данной лабораторной работы реализован метод обратного распространения ошибки для обучения глубоких нейронных сетей на примере двухслойной полностью связанной сети (один скрытый слой). Разработанная нейронная сеть была протестирована с использованием контрольных параметров и получена точность, сравнимая со стандартными инструментами глубокого обучения: точность реализованного класса: 0.9841 (bs = 8), точность реализации из библиотеки PyTorch: 0.9798."
   ]
  },
  {
   "cell_type": "code",
   "execution_count": null,
   "metadata": {},
   "outputs": [],
   "source": []
  }
 ],
 "metadata": {
  "kernelspec": {
   "display_name": "Python 3",
   "language": "python",
   "name": "python3"
  },
  "language_info": {
   "codemirror_mode": {
    "name": "ipython",
    "version": 3
   },
   "file_extension": ".py",
   "mimetype": "text/x-python",
   "name": "python",
   "nbconvert_exporter": "python",
   "pygments_lexer": "ipython3",
   "version": "3.8.8"
  }
 },
 "nbformat": 4,
 "nbformat_minor": 2
}
