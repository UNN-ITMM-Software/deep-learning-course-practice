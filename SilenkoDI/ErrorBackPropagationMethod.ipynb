{
 "cells": [
  {
   "attachments": {},
   "cell_type": "markdown",
   "metadata": {},
   "source": [
    "# Использования метода обратного распространения ошибки для классификации рукописных цифр из набора данных MNIST"
   ]
  },
  {
   "attachments": {},
   "cell_type": "markdown",
   "metadata": {},
   "source": [
    "## 0) Описание"
   ]
  },
  {
   "attachments": {},
   "cell_type": "markdown",
   "metadata": {},
   "source": [
    "### Цели работы"
   ]
  },
  {
   "attachments": {},
   "cell_type": "markdown",
   "metadata": {},
   "source": [
    "Цель настоящей работы состоит в том, чтобы изучить метод обратного распространения ошибки для обучения глубоких нейронных сетей на примере двухслойной полностью связанной сети (один скрытый слой)."
   ]
  },
  {
   "attachments": {},
   "cell_type": "markdown",
   "metadata": {},
   "source": [
    "### Немного о методе"
   ]
  },
  {
   "attachments": {},
   "cell_type": "markdown",
   "metadata": {},
   "source": [
    "Метод обратного распространения ошибки разрабатывается, исходя из следующих предположений:\n",
    "\n",
    "На входе сети имеется w×h нейронов, что соответствует разрешению одноканального изображения (параметр; для изображений в базе MNIST составляет 28x28).\n",
    "На выходе сети имеется k нейронов, что соответствует количеству классов изображений (параметр; для задачи классификации рукописных цифр – 10 классов).\n",
    "Скрытый слой содержит s нейронов (параметр).\n",
    "В качестве функции активации на скрытом слое используется функция ReLU.\n",
    "В качестве функции активации на выходном слое используется функция softmax.\n",
    "В качестве функции ошибки используется кросс-энтропия.\n",
    "Скорость обучения, размер пачки данных, количество эпох являются параметрами метода обучения."
   ]
  },
  {
   "cell_type": "markdown",
   "metadata": {},
   "source": [
    "### Общая схема метода обратного распространения ошибки"
   ]
  },
  {
   "cell_type": "markdown",
   "metadata": {},
   "source": [
    "Инициализация синаптических весов сети (случайным образом из некоторого распределения)  \n",
    "Повторение следующих шагов для каждого примера \n",
    "тренировочного набора данных\n",
    "1. Прямой проход:\n",
    "* Вычисление значений выходных сигналов нейронов всех слоев\n",
    "* Вычисление значений производных функций активации на каждом слое сети\n",
    "2. Обратный проход:\n",
    "* Вычисление значения целевой функции и ее градиента\n",
    "* Корректировка синаптических весов  \n"
   ]
  },
  {
   "attachments": {},
   "cell_type": "markdown",
   "metadata": {},
   "source": [
    "## 1) Загрузка данных"
   ]
  },
  {
   "cell_type": "code",
   "execution_count": 1,
   "metadata": {},
   "outputs": [
    {
     "name": "stderr",
     "output_type": "stream",
     "text": [
      "d:\\Anaconda3\\lib\\site-packages\\scipy\\__init__.py:146: UserWarning: A NumPy version >=1.16.5 and <1.23.0 is required for this version of SciPy (detected version 1.23.3\n",
      "  warnings.warn(f\"A NumPy version >={np_minversion} and <{np_maxversion}\"\n"
     ]
    }
   ],
   "source": [
    "import numpy as np\n",
    "import random\n",
    "import time\n",
    "from keras.datasets import mnist\n",
    "from keras.utils import np_utils\n",
    "from matplotlib import pyplot as plt"
   ]
  },
  {
   "cell_type": "code",
   "execution_count": 2,
   "metadata": {},
   "outputs": [
    {
     "data": {
      "image/png": "[encoded data removed]",
      "text/plain": [
       "<Figure size 432x288 with 5 Axes>"
      ]
     },
     "metadata": {},
     "output_type": "display_data"
    },
    {
     "name": "stdout",
     "output_type": "stream",
     "text": [
      "Размер тренировачных данных: x_train = (60000, 784), y_train = (60000, 10)\n",
      "Размер тестовых данных: x_test = (10000, 784), y_test = (10000, 10)\n"
     ]
    }
   ],
   "source": [
    "# Размер изображений в базе MNIST составляет 28x28\n",
    "w, h = 28, 28\n",
    "# Для задачи классификации рукописных цир мы имеем 10 классов изображений\n",
    "count_of_classes = 10\n",
    "\n",
    "# Загрузка данных MNIST\n",
    "(x_train, y_train), (x_test, y_test) = mnist.load_data()\n",
    "\n",
    "# Визуализация\n",
    "\n",
    "# Выведем на экран 5 примеров из набора тренировачных данных\n",
    "for i in range(5) :\n",
    "    plt.subplot(1, 5, i+1)\n",
    "    plt.xticks([])\n",
    "    plt.yticks([])\n",
    "    plt.grid(False)\n",
    "    plt.imshow(x_train[i], cmap=plt.cm.binary)\n",
    "    plt.xlabel(y_train[i])\n",
    "plt.show()\n",
    "\n",
    "# Предобработка данных:\n",
    "# Значение каждого пикселя в изображении находится в интервале [0,255]. \n",
    "# Для правильной работы модели, они должны быть в интервале [0, 1].\n",
    "# Следовательно, их надо нормализовать\n",
    "\n",
    "x_train = x_train.reshape(x_train.shape[0], w * h)\n",
    "x_test = x_test.reshape(x_test.shape[0], w * h)\n",
    "\n",
    "x_train = x_train.astype('float32')\n",
    "x_test = x_test.astype('float32')\n",
    "\n",
    "x_train /= 255\n",
    "x_test /= 255\n",
    "\n",
    "y_train = np.eye(count_of_classes)[y_train]\n",
    "y_test = np.eye(count_of_classes)[y_test]\n",
    "\n",
    "print('Размер тренировачных данных: x_train = {}, y_train = {}'.format(x_train.shape, y_train.shape))\n",
    "print('Размер тестовых данных: x_test = {}, y_test = {}'.format(x_test.shape, y_test.shape))"
   ]
  },
  {
   "attachments": {},
   "cell_type": "markdown",
   "metadata": {},
   "source": [
    "## 2) Реализация модели"
   ]
  },
  {
   "cell_type": "code",
   "execution_count": 3,
   "metadata": {},
   "outputs": [],
   "source": [
    "class NeuralNetwork:\n",
    "    # input_layer  - количество нейронов на входе\n",
    "    # hidden_layer - количество нейронов на скрытом слое\n",
    "    # output_layer - количество нейронов на выходе\n",
    "    def __init__(self, input_layer, hidden_layer, output_layer):\n",
    "        \n",
    "        self.W1 = np.random.randn(input_layer, hidden_layer) * 0.01\n",
    "        self.W2 = np.random.randn(hidden_layer, output_layer) * 0.01\n",
    "        self.b1 = np.zeros((1, hidden_layer))\n",
    "        self.b2 = np.zeros((1, output_layer))\n",
    "\n",
    "    # Вспомогательные функции\n",
    "    #                 \n",
    "    # Функция активации на скрытом слое\n",
    "    def ReLU(self, x):\n",
    "        return np.maximum(0, x)\n",
    "\n",
    "    # Функция активации на выходном слое\n",
    "    def softmax(self, x):\n",
    "        exp_x = np.exp(x)\n",
    "        return exp_x / np.sum(exp_x, axis = 1, keepdims = True)\n",
    "\n",
    "    # Функция ошибки\n",
    "    def crossEntropyLoss(self, y, u):\n",
    "        return np.mean(-np.sum(y * np.log(u), axis = 1))\n",
    "\n",
    "    # Функция точности\n",
    "    def get_accuracy(self, x, y):\n",
    "        return np.mean(np.argmax(x, axis = 1) == np.argmax(y, axis = 1))\n",
    "\n",
    "    # Прямой проход\n",
    "    def forward(self, x):\n",
    "        self.v1 = np.dot(x, self.W1) + self.b1\n",
    "        self.val_ReLU = self.ReLU(self.v1)\n",
    "        self.v2 = np.dot(self.val_ReLU, self.W2) + self.b2\n",
    "        self.val_softmax = self.softmax(self.v2)\n",
    "        return self.val_softmax\n",
    "    \n",
    "    # Обратный проход\n",
    "    def backward(self, x, y, learning_rate):\n",
    "        dv2 = (self.val_softmax - y) / self.val_softmax.shape[0]\n",
    "        dW2 = (self.val_ReLU.T).dot(dv2)\n",
    "        db2 = np.sum(dv2, axis = 0, keepdims = True)\n",
    "        dReLU = np.where(self.v1 > 0, 1, 0)\n",
    "        dv1 = dv2.dot(self.W2.T) * dReLU\n",
    "        dW1 = np.dot(x.T, dv1)\n",
    "        db1 = np.sum(dv1, axis = 0, keepdims = True)\n",
    "\n",
    "        self.W2 -= learning_rate * dW2\n",
    "        self.b2 -= learning_rate * db2\n",
    "        self.W1 -= learning_rate * dW1\n",
    "        self.b1 -= learning_rate * db1\n",
    "    \n",
    "    # Обучение\n",
    "    # batch_size - размер пачки\n",
    "    # learning_rate - скорость обучения\n",
    "    def train(self, x, y, epochs, batch_size, learning_rate):\n",
    "        start = time.time()\n",
    "        for epoch in range(epochs):\n",
    "            start_epoch = time.time()\n",
    "            for i in range(0, len(x), batch_size):\n",
    "                x_curr = x[i : i + batch_size]\n",
    "                y_curr = y[i : i + batch_size]\n",
    "                self.forward(x_curr)\n",
    "                self.backward(x_curr, y_curr, learning_rate)\n",
    "        \n",
    "            self.forward(x)\n",
    "            print('Эпоха № {}; Ошибка = {:.4f}; Точность = {:.4f}; Время = {:.4f}'\n",
    "                .format(epoch, self.crossEntropyLoss(y, self.val_softmax), \n",
    "                self.get_accuracy(y, self.val_softmax), time.time() - start_epoch))\n",
    "        general_train_time = time.time() - start\n",
    "        print(f\"Общее время обучение: {general_train_time:.4f}\")\n",
    "    \n",
    "    # Тестирование\n",
    "    def test(self, x, y):\n",
    "        start = time.time()\n",
    "        self.forward(x)\n",
    "        print('Точность на тестовой выборке {:.4f}; Ошибка = {:.4f}; Время = {:.4f}'\n",
    "                .format(self.get_accuracy(y, self.val_softmax), self.crossEntropyLoss(y, self.val_softmax), \n",
    "                 time.time() - start))"
   ]
  },
  {
   "attachments": {},
   "cell_type": "markdown",
   "metadata": {},
   "source": [
    "## 3) Работа с данными из примера"
   ]
  },
  {
   "attachments": {},
   "cell_type": "markdown",
   "metadata": {},
   "source": [
    "Вводим параметры работы модели"
   ]
  },
  {
   "cell_type": "code",
   "execution_count": 4,
   "metadata": {},
   "outputs": [],
   "source": [
    "batch_size = 64\n",
    "num_epochs = 10 \n",
    "hidden_neurons = 200\n",
    "learning_rate = 0.1"
   ]
  },
  {
   "attachments": {},
   "cell_type": "markdown",
   "metadata": {},
   "source": [
    "Инициализируем и тренируем модель "
   ]
  },
  {
   "cell_type": "code",
   "execution_count": 5,
   "metadata": {},
   "outputs": [
    {
     "name": "stdout",
     "output_type": "stream",
     "text": [
      "Эпоха № 0; Ошибка = 0.2889; Точность = 0.9135; Время = 2.3471\n",
      "Эпоха № 1; Ошибка = 0.2062; Точность = 0.9395; Время = 2.3391\n",
      "Эпоха № 2; Ошибка = 0.1582; Точность = 0.9535; Время = 2.2390\n",
      "Эпоха № 3; Ошибка = 0.1276; Точность = 0.9625; Время = 2.3822\n",
      "Эпоха № 4; Ошибка = 0.1069; Точность = 0.9690; Время = 2.2811\n",
      "Эпоха № 5; Ошибка = 0.0919; Точность = 0.9738; Время = 2.2490\n",
      "Эпоха № 6; Ошибка = 0.0802; Точность = 0.9773; Время = 2.2601\n",
      "Эпоха № 7; Ошибка = 0.0707; Точность = 0.9802; Время = 2.2350\n",
      "Эпоха № 8; Ошибка = 0.0635; Точность = 0.9821; Время = 2.2160\n",
      "Эпоха № 9; Ошибка = 0.0572; Точность = 0.9840; Время = 2.2120\n",
      "Общее время обучение: 22.7607\n"
     ]
    }
   ],
   "source": [
    "nnetwork = NeuralNetwork(w * h, hidden_neurons, count_of_classes)\n",
    "nnetwork.train(x_train, y_train, num_epochs, batch_size, learning_rate)"
   ]
  },
  {
   "attachments": {},
   "cell_type": "markdown",
   "metadata": {},
   "source": [
    "Тестируем можель"
   ]
  },
  {
   "cell_type": "code",
   "execution_count": 6,
   "metadata": {},
   "outputs": [
    {
     "name": "stdout",
     "output_type": "stream",
     "text": [
      "Точность на тестовой выборке 0.9750; Ошибка = 0.0819; Время = 0.0921\n"
     ]
    }
   ],
   "source": [
    "nnetwork.test(x_test, y_test)"
   ]
  },
  {
   "attachments": {},
   "cell_type": "markdown",
   "metadata": {},
   "source": [
    "## 4) Контрольный набор параметров"
   ]
  },
  {
   "attachments": {},
   "cell_type": "markdown",
   "metadata": {},
   "source": [
    "Контрольный набор параметров: размер пачки может меняться от 8 до 64 изображений (в зависимости от доступного объема памяти), скорость обучения составляет 0.1, количество скрытых нейронов – 300, количество эпох – 20."
   ]
  },
  {
   "cell_type": "code",
   "execution_count": 15,
   "metadata": {},
   "outputs": [],
   "source": [
    "batch_size = 16\n",
    "learning_rate = 0.1\n",
    "hidden_neurons = 300\n",
    "num_epochs = 20\n"
   ]
  },
  {
   "attachments": {},
   "cell_type": "markdown",
   "metadata": {},
   "source": [
    "Инициализируем и тренируем модель "
   ]
  },
  {
   "cell_type": "code",
   "execution_count": 16,
   "metadata": {},
   "outputs": [
    {
     "name": "stdout",
     "output_type": "stream",
     "text": [
      "Эпоха № 0; Ошибка = 0.1488; Точность = 0.9537; Время = 9.0838\n",
      "Эпоха № 1; Ошибка = 0.0923; Точность = 0.9716; Время = 9.4786\n",
      "Эпоха № 2; Ошибка = 0.0708; Точность = 0.9780; Время = 8.7199\n",
      "Эпоха № 3; Ошибка = 0.0569; Точность = 0.9819; Время = 8.4717\n",
      "Эпоха № 4; Ошибка = 0.0453; Точность = 0.9853; Время = 8.5998\n",
      "Эпоха № 5; Ошибка = 0.0376; Точность = 0.9880; Время = 8.5578\n",
      "Эпоха № 6; Ошибка = 0.0306; Точность = 0.9902; Время = 8.7379\n",
      "Эпоха № 7; Ошибка = 0.0249; Точность = 0.9921; Время = 8.5491\n",
      "Эпоха № 8; Ошибка = 0.0213; Точность = 0.9934; Время = 8.0932\n",
      "Эпоха № 9; Ошибка = 0.0175; Точность = 0.9949; Время = 9.1793\n",
      "Эпоха № 10; Ошибка = 0.0155; Точность = 0.9956; Время = 8.8110\n",
      "Эпоха № 11; Ошибка = 0.0139; Точность = 0.9960; Время = 9.2194\n",
      "Эпоха № 12; Ошибка = 0.0117; Точность = 0.9970; Время = 9.1243\n",
      "Эпоха № 13; Ошибка = 0.0086; Точность = 0.9981; Время = 9.4556\n",
      "Эпоха № 14; Ошибка = 0.0069; Точность = 0.9987; Время = 8.8363\n",
      "Эпоха № 15; Ошибка = 0.0059; Точность = 0.9990; Время = 9.2005\n",
      "Эпоха № 16; Ошибка = 0.0051; Точность = 0.9992; Время = 9.4914\n",
      "Эпоха № 17; Ошибка = 0.0044; Точность = 0.9994; Время = 8.7049\n",
      "Эпоха № 18; Ошибка = 0.0038; Точность = 0.9995; Время = 8.6222\n",
      "Эпоха № 19; Ошибка = 0.0033; Точность = 0.9996; Время = 8.6739\n",
      "Общее время обучение: 177.6135\n"
     ]
    }
   ],
   "source": [
    "nnetwork = NeuralNetwork(w * h, hidden_neurons, count_of_classes)\n",
    "nnetwork.train(x_train, y_train, num_epochs, batch_size, learning_rate)"
   ]
  },
  {
   "attachments": {},
   "cell_type": "markdown",
   "metadata": {},
   "source": [
    "Тестируем можель"
   ]
  },
  {
   "cell_type": "code",
   "execution_count": 17,
   "metadata": {},
   "outputs": [
    {
     "name": "stdout",
     "output_type": "stream",
     "text": [
      "Точность на тестовой выборке 0.9817; Ошибка = 0.0728; Время = 0.1141\n"
     ]
    }
   ],
   "source": [
    "nnetwork.test(x_test, y_test)"
   ]
  },
  {
   "attachments": {},
   "cell_type": "markdown",
   "metadata": {},
   "source": [
    "## 5) Сравнение с реализацией из библиотеки PyTorch"
   ]
  },
  {
   "cell_type": "code",
   "execution_count": 18,
   "metadata": {},
   "outputs": [],
   "source": [
    "import torch\n",
    "import torch.nn"
   ]
  },
  {
   "cell_type": "code",
   "execution_count": 19,
   "metadata": {},
   "outputs": [
    {
     "name": "stdout",
     "output_type": "stream",
     "text": [
      "NNetwork(\n",
      "  (linear1): Linear(in_features=784, out_features=300, bias=True)\n",
      "  (relu): ReLU()\n",
      "  (linear2): Linear(in_features=300, out_features=10, bias=True)\n",
      ")\n"
     ]
    }
   ],
   "source": [
    "class NNetwork(torch.nn.Module):\n",
    "    def __init__(self):\n",
    "        super(NNetwork, self).__init__()\n",
    "        self.linear1 = torch.nn.Linear(w * h, hidden_neurons)\n",
    "        self.relu = torch.nn.ReLU()\n",
    "        self.linear2 = torch.nn.Linear(hidden_neurons, count_of_classes)\n",
    "        \n",
    "      \n",
    "    def forward(self, x):\n",
    "        x = self.linear1(x)\n",
    "        x = self.relu(x)\n",
    "        x = self.linear2(x)\n",
    "        return torch.nn.functional.log_softmax(x, dim = 1)\n",
    "\n",
    "\n",
    "nnetwork = NNetwork()\n",
    "print(nnetwork)"
   ]
  },
  {
   "cell_type": "code",
   "execution_count": 20,
   "metadata": {},
   "outputs": [],
   "source": [
    "# Функция подсчета ошибки\n",
    "def get_accuracy(x, y):\n",
    "        return np.mean(np.argmax(x, axis = 1) == np.argmax(y, axis = 1))"
   ]
  },
  {
   "cell_type": "code",
   "execution_count": 21,
   "metadata": {},
   "outputs": [
    {
     "name": "stdout",
     "output_type": "stream",
     "text": [
      "Эпоха № 0; Ошибка = 0.0134; Точность = 0.9577; Время = 3.5272\n",
      "Эпоха № 1; Ошибка = 0.0039; Точность = 0.9737; Время = 3.4962\n",
      "Эпоха № 2; Ошибка = 0.0026; Точность = 0.9803; Время = 3.5282\n",
      "Эпоха № 3; Ошибка = 0.0019; Точность = 0.9841; Время = 3.3981\n",
      "Эпоха № 4; Ошибка = 0.0015; Точность = 0.9877; Время = 3.3540\n",
      "Эпоха № 5; Ошибка = 0.0017; Точность = 0.9901; Время = 3.3691\n",
      "Эпоха № 6; Ошибка = 0.0022; Точность = 0.9920; Время = 3.3410\n",
      "Эпоха № 7; Ошибка = 0.0027; Точность = 0.9933; Время = 3.3440\n",
      "Эпоха № 8; Ошибка = 0.0018; Точность = 0.9940; Время = 3.3761\n",
      "Эпоха № 9; Ошибка = 0.0018; Точность = 0.9948; Время = 3.3681\n",
      "Эпоха № 10; Ошибка = 0.0014; Точность = 0.9957; Время = 3.3420\n",
      "Эпоха № 11; Ошибка = 0.0017; Точность = 0.9958; Время = 3.3971\n",
      "Эпоха № 12; Ошибка = 0.0010; Точность = 0.9965; Время = 3.4021\n",
      "Эпоха № 13; Ошибка = 0.0007; Точность = 0.9975; Время = 3.3901\n",
      "Эпоха № 14; Ошибка = 0.0003; Точность = 0.9987; Время = 3.3621\n",
      "Эпоха № 15; Ошибка = 0.0002; Точность = 0.9991; Время = 3.3651\n",
      "Эпоха № 16; Ошибка = 0.0002; Точность = 0.9993; Время = 3.4231\n",
      "Эпоха № 17; Ошибка = 0.0001; Точность = 0.9996; Время = 3.4251\n",
      "Эпоха № 18; Ошибка = 0.0001; Точность = 0.9997; Время = 3.6743\n",
      "Эпоха № 19; Ошибка = 0.0001; Точность = 0.9997; Время = 3.6061\n",
      "Общее время обучение: 68.4949\n"
     ]
    }
   ],
   "source": [
    "# Обучение построенной модели на CPU\n",
    "\n",
    "# Выбор устройства для вычислений\n",
    "device = torch.device(\"cuda:0\" if torch.cuda.is_available() else \"cpu\")\n",
    "nnetwork.to(device)\n",
    "\n",
    "# Функция ошибки на этапе обучения\n",
    "loss_function = torch.nn.CrossEntropyLoss()\n",
    "\n",
    "# Метод оптимизации для обучения параметров\n",
    "optimizer = torch.optim.SGD(nnetwork.parameters(), lr = learning_rate)\n",
    "\n",
    "start = time.time()\n",
    "for epoch in range(num_epochs):\n",
    "    start_epoch = time.time()\n",
    "    for i in range(0, len(x_train), batch_size):\n",
    "        x_curr = torch.tensor(x_train[i : i + batch_size])\n",
    "        y_curr = torch.tensor(y_train[i : i + batch_size]) \n",
    "        \n",
    "        # Прямой проход\n",
    "        outputs = nnetwork(x_curr) # вычисление выхода сети\n",
    "        loss = loss_function(outputs, y_curr) # вычисление функции ошибки\n",
    "        \n",
    "        # Обратный проход\n",
    "        optimizer.zero_grad() # обнуление всех вычисляемых градиентов\n",
    "        loss.backward() # вычисление градиента функции ошибки\n",
    "        optimizer.step() # обновление параметров модели\n",
    "        \n",
    "    print('Эпоха № {}; Ошибка = {:.4f}; Точность = {:.4f}; Время = {:.4f}'\n",
    "                .format(epoch, loss.item(), \n",
    "                get_accuracy(nnetwork(torch.tensor(x_train)).detach().numpy(), y_train),\n",
    "                time.time() - start_epoch))\n",
    "\n",
    "\n",
    "general_train_time = time.time() - start\n",
    "print(f\"Общее время обучение: {general_train_time:.4f}\")"
   ]
  },
  {
   "cell_type": "code",
   "execution_count": 22,
   "metadata": {},
   "outputs": [
    {
     "name": "stdout",
     "output_type": "stream",
     "text": [
      "Точность на тестовой выборке 0.9819\n"
     ]
    }
   ],
   "source": [
    "print('Точность на тестовой выборке {:.4f}'\n",
    "                .format(get_accuracy(nnetwork(torch.tensor(x_test)).detach().numpy(), y_test)))\n",
    "        "
   ]
  },
  {
   "attachments": {},
   "cell_type": "markdown",
   "metadata": {},
   "source": [
    "Для контрольных значений параметров нами была достигнута точность классификации на тестовых данных, сравнимая с точностью, которую выдают стандартные инструменты глубокого обучения (PyTorch): у нас 0.9817, а в PyTorch - 0.9819"
   ]
  },
  {
   "cell_type": "markdown",
   "metadata": {},
   "source": []
  }
 ],
 "metadata": {
  "kernelspec": {
   "display_name": "base",
   "language": "python",
   "name": "python3"
  },
  "language_info": {
   "codemirror_mode": {
    "name": "ipython",
    "version": 3
   },
   "file_extension": ".py",
   "mimetype": "text/x-python",
   "name": "python",
   "nbconvert_exporter": "python",
   "pygments_lexer": "ipython3",
   "version": "3.9.12"
  },
  "vscode": {
   "interpreter": {
    "hash": "b09ec625f77bf4fd762565a912b97636504ad6ec901eb2d0f4cf5a7de23e1ee5"
   }
  }
 },
 "nbformat": 4,
 "nbformat_minor": 4
}
