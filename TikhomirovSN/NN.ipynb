{
 "cells": [
  {
   "attachments": {},
   "cell_type": "markdown",
   "metadata": {},
   "source": [
    "# Метод обратного распространения ошибки для двуслойной полностью связной нейронной сети"
   ]
  },
  {
   "cell_type": "markdown",
   "metadata": {},
   "source": [
    "### Считывание данных:"
   ]
  },
  {
   "cell_type": "code",
   "execution_count": 1,
   "metadata": {},
   "outputs": [],
   "source": [
    "import struct\n",
    "import numpy as np\n",
    "import pandas as pd\n",
    "import matplotlib.pyplot as plt\n",
    "from timeit import default_timer as timer\n",
    "\n",
    "def getImages(name):\n",
    "    filename = 'data/' + name\n",
    "    with open(filename, 'rb') as f:\n",
    "        magic, size = struct.unpack(\">II\", f.read(8))\n",
    "        nrows, ncols = struct.unpack(\">II\", f.read(8))\n",
    "        data = np.fromfile(f, dtype=np.dtype(np.uint8).newbyteorder('>'))\n",
    "        data = data.reshape((size, nrows, ncols))\n",
    "    return data\n",
    "\n",
    "def getLabels(name):\n",
    "    filename = 'data/' + name\n",
    "    with open(filename,'rb') as f:\n",
    "        magic, size = struct.unpack(\">II\", f.read(8))\n",
    "        data = np.fromfile(f, dtype=np.dtype(np.uint8).newbyteorder('>'))\n",
    "        data = data.reshape((size,)) \n",
    "    return data"
   ]
  },
  {
   "cell_type": "code",
   "execution_count": 2,
   "metadata": {},
   "outputs": [],
   "source": [
    "train_images = getImages('train-images.idx3-ubyte')\n",
    "train_labels = getLabels('train-labels.idx1-ubyte')\n",
    "\n",
    "test_images = getImages('t10k-images.idx3-ubyte')\n",
    "test_labels = getLabels('t10k-labels.idx1-ubyte')"
   ]
  },
  {
   "attachments": {},
   "cell_type": "markdown",
   "metadata": {},
   "source": [
    "### Проверка корректности считанных данных"
   ]
  },
  {
   "cell_type": "code",
   "execution_count": 3,
   "metadata": {},
   "outputs": [
    {
     "data": {
      "text/plain": [
       "<matplotlib.image.AxesImage at 0x27b1b449dc0>"
      ]
     },
     "execution_count": 3,
     "metadata": {},
     "output_type": "execute_result"
    },
    {
     "data": {
      "image/png": "[encoded data removed]",
      "text/plain": [
       "<Figure size 640x480 with 1 Axes>"
      ]
     },
     "metadata": {},
     "output_type": "display_data"
    }
   ],
   "source": [
    "plt.imshow(test_images[0], cmap='gray')"
   ]
  },
  {
   "cell_type": "code",
   "execution_count": 4,
   "metadata": {},
   "outputs": [
    {
     "data": {
      "text/plain": [
       "7"
      ]
     },
     "execution_count": 4,
     "metadata": {},
     "output_type": "execute_result"
    }
   ],
   "source": [
    "test_labels[0]"
   ]
  },
  {
   "cell_type": "markdown",
   "metadata": {},
   "source": [
    "### Нормировка данных\n",
    "\n"
   ]
  },
  {
   "cell_type": "code",
   "execution_count": 5,
   "metadata": {},
   "outputs": [],
   "source": [
    "# flatten 28x28 to 784x1 vectors, [60000, 784]\n",
    "train_images = train_images.reshape(train_images.shape[0], 28*28).astype('float32')\n",
    "train_images /= 255  # normalization\n",
    "train_labels = np.eye(10)[train_labels]  # convert label to one-hot\n",
    "\n",
    "test_images = test_images.reshape(test_images.shape[0], 28*28).astype('float32')\n",
    "test_images /= 255  # normalization\n",
    "test_labels = np.eye(10)[test_labels] # convert label to one-hot"
   ]
  },
  {
   "cell_type": "code",
   "execution_count": 6,
   "metadata": {},
   "outputs": [],
   "source": [
    "def cross_entropy_loss(predicted, actual):\n",
    "    return np.mean(-np.sum(actual * np.log(predicted), axis=1))\n",
    "\n",
    "def compute_accuracy(predicted, actual):\n",
    "    return np.mean(np.argmax(predicted, axis=1) == np.argmax(actual, axis=1))\n",
    "\n",
    "def relu(x):\n",
    "    return np.maximum(x, 0)\n",
    "\n",
    "def reludx(x):\n",
    "    x[x <= 0] = 0\n",
    "    x[x > 0] = 1\n",
    "    return x\n",
    "\n",
    "def softmax(x):\n",
    "    exp_scores = np.exp(x)\n",
    "    probs = exp_scores / np.sum(exp_scores, axis=1, keepdims=True)\n",
    "    return probs\n",
    "\n",
    "class NN():\n",
    "    def __init__(self, input_size, hidden_size, output_size, lr=0.01, batch_size = 8):\n",
    "        # Initialize weights\n",
    "        self.w1 = np.random.randn(input_size, hidden_size) / np.sqrt(input_size)\n",
    "        self.w2 = np.random.randn(hidden_size, output_size) / np.sqrt(hidden_size)\n",
    "\n",
    "        # Initialize biases\n",
    "        self.b1 = np.zeros((1, hidden_size))\n",
    "        self.b2 = np.zeros((1, output_size))\n",
    "\n",
    "        self.input_size = input_size\n",
    "        self.hidden_size = hidden_size\n",
    "        self.out_size = output_size\n",
    "        self.lr = lr\n",
    "        self.batch_size = batch_size\n",
    "\n",
    "    def forward(self, x):\n",
    "        # fc = ReLU(x * w1 + b1)\n",
    "        self.x1 = np.dot(x, self.w1) + self.b1\n",
    "        self.fc = relu(self.x1)\n",
    "\n",
    "        # out = softmax(fc * w2 + b2)\n",
    "        self.x2 = np.dot(self.fc, self.w2) + self.b2\n",
    "        self.out = softmax(self.x2)\n",
    "        return self.out\n",
    "    \n",
    "    def backward(self, x, y):\n",
    "        # dx2 = -(1 / batch_size) * (y - out) \n",
    "        dx2 = (self.out - y) / self.out.shape[0]\n",
    "\n",
    "        # dx1 = ReLUdx(dx2 * w2.T)\n",
    "        dx1 = np.dot(dx2, self.w2.T) * reludx(self.x1)\n",
    "\n",
    "        # dw2 = fc.t * dx2\n",
    "        dw2 = np.dot(self.fc.T, dx2)\n",
    "\n",
    "        # dw1 = x.T * dx1\n",
    "        dw1 = np.dot(x.T, dx1)\n",
    "\n",
    "        # db2 = sum(dx2)\n",
    "        db2 = np.sum(dx2, axis=0, keepdims=True)\n",
    "\n",
    "        # db1 = sum(dx1)\n",
    "        db1 = np.sum(dx1, axis=0, keepdims=True)\n",
    "\n",
    "        # Update weights and biases\n",
    "        self.w1 += -self.lr * dw1\n",
    "        self.b1 += -self.lr * db1\n",
    "        self.w2 += -self.lr * dw2\n",
    "        self.b2 += -self.lr * db2\n",
    "\n",
    "\n",
    "\n",
    "    def train(self, train, test, num_epochs=4):\n",
    "        tStart = timer()\n",
    "        train_images, train_labels = train\n",
    "        test_images, test_labels = test\n",
    "        w1, b1, w2, b2 = self.w1, self.b1, self.w2, self.b2\n",
    "\n",
    "        for epoch in range(num_epochs):\n",
    "            i = 0\n",
    "            while i < len(train_images):\n",
    "                train_batch = train_images[i : i + self.batch_size]\n",
    "                labels_batch = train_labels[i : i + self.batch_size]\n",
    "\n",
    "                output = self.forward(train_batch)\n",
    "                error = cross_entropy_loss(output, labels_batch)\n",
    "                self.backward(train_batch, labels_batch)\n",
    "                i += self.batch_size\n",
    "\n",
    "            \n",
    "            error_test = cross_entropy_loss(self.forward(test_images), test_labels)\n",
    "            error_train = cross_entropy_loss(self.forward(train_images), train_labels)\n",
    "            acc_test = compute_accuracy(self.forward(test_images), test_labels)\n",
    "            acc_train = compute_accuracy(self.forward(train_images), train_labels)\n",
    "            \n",
    "            print(f\"Epoch {epoch} - Error on test: {error_test:.5f}; Error on train: {error_train:.5f}; Accuracy on test: {acc_test:.5f}; Accuracy on train: {acc_train:.5f}\")\n",
    "        tEnd = timer()\n",
    "        error_test = cross_entropy_loss(self.forward(test_images), test_labels)\n",
    "        error_train = cross_entropy_loss(self.forward(train_images), train_labels)\n",
    "        \n",
    "        acc_test = compute_accuracy(self.forward(test_images), test_labels)\n",
    "        acc_train = compute_accuracy(self.forward(train_images), train_labels)\n",
    "\n",
    "        print(\"Result:\")\n",
    "        print(f\"Error on test: {error_test:.5f}; Error on train: {error_train:.5f}; Accuracy on test: {acc_test:.5f}; Accuracy on train: {acc_train:.5f}; Time: {tEnd - tStart:.2f} s\")\n",
    "    \n",
    "    def test(self, x_test):\n",
    "        return self.forward(x_test)\n",
    "        "
   ]
  },
  {
   "cell_type": "markdown",
   "metadata": {},
   "source": [
    "Создадим экземпляр нейронной сети и запустим обучение:"
   ]
  },
  {
   "cell_type": "code",
   "execution_count": 7,
   "metadata": {},
   "outputs": [
    {
     "name": "stdout",
     "output_type": "stream",
     "text": [
      "Epoch 0 - Error on test: 0.13110; Error on train: 0.11548; Accuracy on test: 0.95910; Accuracy on train: 0.96355\n",
      "Epoch 1 - Error on test: 0.10742; Error on train: 0.07491; Accuracy on test: 0.96750; Accuracy on train: 0.97587\n",
      "Epoch 2 - Error on test: 0.08901; Error on train: 0.04890; Accuracy on test: 0.97390; Accuracy on train: 0.98418\n",
      "Epoch 3 - Error on test: 0.09334; Error on train: 0.04165; Accuracy on test: 0.97250; Accuracy on train: 0.98637\n",
      "Epoch 4 - Error on test: 0.09268; Error on train: 0.03447; Accuracy on test: 0.97390; Accuracy on train: 0.98858\n",
      "Epoch 5 - Error on test: 0.09262; Error on train: 0.02946; Accuracy on test: 0.97480; Accuracy on train: 0.99005\n",
      "Epoch 6 - Error on test: 0.08351; Error on train: 0.01957; Accuracy on test: 0.97730; Accuracy on train: 0.99320\n",
      "Epoch 7 - Error on test: 0.08526; Error on train: 0.01612; Accuracy on test: 0.97590; Accuracy on train: 0.99450\n",
      "Epoch 8 - Error on test: 0.08262; Error on train: 0.01176; Accuracy on test: 0.97820; Accuracy on train: 0.99603\n",
      "Epoch 9 - Error on test: 0.07769; Error on train: 0.00662; Accuracy on test: 0.98050; Accuracy on train: 0.99810\n",
      "Epoch 10 - Error on test: 0.07657; Error on train: 0.00439; Accuracy on test: 0.98040; Accuracy on train: 0.99897\n",
      "Epoch 11 - Error on test: 0.07518; Error on train: 0.00285; Accuracy on test: 0.98090; Accuracy on train: 0.99945\n",
      "Epoch 12 - Error on test: 0.07493; Error on train: 0.00225; Accuracy on test: 0.98140; Accuracy on train: 0.99960\n",
      "Epoch 13 - Error on test: 0.07419; Error on train: 0.00166; Accuracy on test: 0.98170; Accuracy on train: 0.99980\n",
      "Epoch 14 - Error on test: 0.07421; Error on train: 0.00130; Accuracy on test: 0.98210; Accuracy on train: 0.99990\n",
      "Epoch 15 - Error on test: 0.07414; Error on train: 0.00108; Accuracy on test: 0.98260; Accuracy on train: 0.99993\n",
      "Epoch 16 - Error on test: 0.07414; Error on train: 0.00092; Accuracy on test: 0.98260; Accuracy on train: 0.99995\n",
      "Epoch 17 - Error on test: 0.07420; Error on train: 0.00080; Accuracy on test: 0.98270; Accuracy on train: 0.99997\n",
      "Epoch 18 - Error on test: 0.07426; Error on train: 0.00071; Accuracy on test: 0.98280; Accuracy on train: 0.99997\n",
      "Epoch 19 - Error on test: 0.07432; Error on train: 0.00063; Accuracy on test: 0.98290; Accuracy on train: 0.99998\n",
      "Result:\n",
      "Error on test: 0.07432; Error on train: 0.00063; Accuracy on test: 0.98290; Accuracy on train: 0.99998; Time: 209.64 s\n"
     ]
    }
   ],
   "source": [
    "network = NN(input_size=784, hidden_size=300, output_size=10, lr = 0.1, batch_size = 8)\n",
    "\n",
    "network.train((train_images, train_labels), (test_images, test_labels), num_epochs=20)"
   ]
  },
  {
   "attachments": {},
   "cell_type": "markdown",
   "metadata": {},
   "source": [
    "Let's test the network"
   ]
  },
  {
   "cell_type": "code",
   "execution_count": 8,
   "metadata": {},
   "outputs": [
    {
     "data": {
      "text/plain": [
       "0.9829"
      ]
     },
     "execution_count": 8,
     "metadata": {},
     "output_type": "execute_result"
    }
   ],
   "source": [
    "compute_accuracy(network.test(test_images), test_labels)"
   ]
  },
  {
   "attachments": {},
   "cell_type": "markdown",
   "metadata": {},
   "source": [
    "### Let's compare these results with ones of Torch network"
   ]
  },
  {
   "cell_type": "code",
   "execution_count": 9,
   "metadata": {},
   "outputs": [],
   "source": [
    "import torch\n",
    "from torch import nn\n",
    "import torch.optim as optim\n",
    "\n",
    "input_size = 28*28\n",
    "hidden_size = 300\n",
    "output_size = 10\n",
    "batch_size = 8\n",
    "num_epochs = 20\n",
    "\n",
    "class TorchNN(nn.Module):\n",
    "    def __init__(self):\n",
    "        super().__init__()\n",
    "        self.layer1 = nn.Linear(input_size, hidden_size)\n",
    "        self.relu = nn.ReLU()\n",
    "        self.layer2 = nn.Linear(hidden_size, output_size)\n",
    "        self.softmax = nn.Softmax(dim=0)\n",
    "        \n",
    "    def forward(self, x):\n",
    "        x = self.layer1(x)\n",
    "        x = self.relu(x)\n",
    "        x = self.layer2(x)\n",
    "        out = self.softmax(x)\n",
    "        return out"
   ]
  },
  {
   "cell_type": "code",
   "execution_count": 10,
   "metadata": {},
   "outputs": [
    {
     "name": "stdout",
     "output_type": "stream",
     "text": [
      "TorchNN(\n",
      "  (layer1): Linear(in_features=784, out_features=300, bias=True)\n",
      "  (relu): ReLU()\n",
      "  (layer2): Linear(in_features=300, out_features=10, bias=True)\n",
      "  (softmax): Softmax(dim=0)\n",
      ")\n"
     ]
    }
   ],
   "source": [
    "torch_network = TorchNN()\n",
    "print(torch_network)"
   ]
  },
  {
   "cell_type": "code",
   "execution_count": 11,
   "metadata": {},
   "outputs": [],
   "source": [
    "optimizer = optim.SGD(torch_network.parameters(), lr=0.1)\n",
    "loss_func = nn.CrossEntropyLoss()"
   ]
  },
  {
   "cell_type": "code",
   "execution_count": 12,
   "metadata": {},
   "outputs": [],
   "source": [
    "def train_torch(nn, train, test, loss, optimizer, batch_size, num_epochs):\n",
    "    tStart = timer()\n",
    "\n",
    "    for epoch in range(num_epochs):\n",
    "        i = 0\n",
    "        while i < len(train_images):\n",
    "            train_batch = torch.tensor(train_images[i:i + batch_size])\n",
    "            labels_batch = torch.tensor(train_labels[i:i + batch_size])\n",
    "\n",
    "            optimizer.zero_grad()\n",
    "            net_out = torch_network(train_batch)\n",
    "            loss = loss_func(net_out, labels_batch)\n",
    "            loss.backward()\n",
    "            optimizer.step()\n",
    "\n",
    "            i += batch_size\n",
    "        \n",
    "        accuracy_train = compute_accuracy(torch_network(torch.tensor(train_images)).detach().numpy(), train_labels)\n",
    "        accuracy_test = compute_accuracy(torch_network(torch.tensor(test_images)).detach().numpy(), test_labels)\n",
    "        print(f\"Epoch {epoch} - Train accuracy: {accuracy_train:.5f}; Test accuracy: {accuracy_test:.5f}\")\n",
    "\n",
    "    tEnd = timer()\n",
    "    return tEnd - tStart"
   ]
  },
  {
   "cell_type": "code",
   "execution_count": 13,
   "metadata": {},
   "outputs": [
    {
     "name": "stdout",
     "output_type": "stream",
     "text": [
      "Epoch 0 - Train accuracy: 0.86303; Test accuracy: 0.87100\n",
      "Epoch 1 - Train accuracy: 0.91177; Test accuracy: 0.91550\n",
      "Epoch 2 - Train accuracy: 0.93660; Test accuracy: 0.93850\n",
      "Epoch 3 - Train accuracy: 0.94922; Test accuracy: 0.95150\n",
      "Epoch 4 - Train accuracy: 0.95707; Test accuracy: 0.95760\n",
      "Epoch 5 - Train accuracy: 0.96230; Test accuracy: 0.96060\n",
      "Epoch 6 - Train accuracy: 0.96558; Test accuracy: 0.96430\n",
      "Epoch 7 - Train accuracy: 0.96803; Test accuracy: 0.96640\n",
      "Epoch 8 - Train accuracy: 0.96992; Test accuracy: 0.96840\n",
      "Epoch 9 - Train accuracy: 0.97185; Test accuracy: 0.97040\n",
      "Epoch 10 - Train accuracy: 0.97352; Test accuracy: 0.97080\n",
      "Epoch 11 - Train accuracy: 0.97478; Test accuracy: 0.97210\n",
      "Epoch 12 - Train accuracy: 0.97560; Test accuracy: 0.97280\n",
      "Epoch 13 - Train accuracy: 0.97668; Test accuracy: 0.97330\n",
      "Epoch 14 - Train accuracy: 0.97740; Test accuracy: 0.97400\n",
      "Epoch 15 - Train accuracy: 0.97797; Test accuracy: 0.97480\n",
      "Epoch 16 - Train accuracy: 0.97867; Test accuracy: 0.97520\n",
      "Epoch 17 - Train accuracy: 0.97925; Test accuracy: 0.97500\n",
      "Epoch 18 - Train accuracy: 0.97980; Test accuracy: 0.97510\n",
      "Epoch 19 - Train accuracy: 0.98045; Test accuracy: 0.97540\n"
     ]
    }
   ],
   "source": [
    "torch_time = train_torch(torch_network, (train_images, train_labels), (test_images, test_labels), loss_func, optimizer, batch_size, num_epochs)"
   ]
  },
  {
   "cell_type": "code",
   "execution_count": 14,
   "metadata": {},
   "outputs": [
    {
     "name": "stdout",
     "output_type": "stream",
     "text": [
      "Total learn time for Torch network: 107.54059090000001 seconds\n"
     ]
    }
   ],
   "source": [
    "print(f\"Total learn time for Torch network: {torch_time} seconds\")"
   ]
  },
  {
   "attachments": {},
   "cell_type": "markdown",
   "metadata": {},
   "source": [
    "Test the Torch network"
   ]
  },
  {
   "cell_type": "code",
   "execution_count": 15,
   "metadata": {},
   "outputs": [
    {
     "data": {
      "text/plain": [
       "0.9754"
      ]
     },
     "execution_count": 15,
     "metadata": {},
     "output_type": "execute_result"
    }
   ],
   "source": [
    "compute_accuracy(torch_network(torch.tensor(test_images)).detach().numpy(), test_labels)"
   ]
  }
 ],
 "metadata": {
  "kernelspec": {
   "display_name": "mlunn4",
   "language": "python",
   "name": "python3"
  },
  "language_info": {
   "codemirror_mode": {
    "name": "ipython",
    "version": 3
   },
   "file_extension": ".py",
   "mimetype": "text/x-python",
   "name": "python",
   "nbconvert_exporter": "python",
   "pygments_lexer": "ipython3",
   "version": "3.9.13 (main, Oct 13 2022, 21:23:06) [MSC v.1916 64 bit (AMD64)]"
  },
  "orig_nbformat": 4,
  "vscode": {
   "interpreter": {
    "hash": "911b70e724d0df810317d8f88523277745bac8a0783f527cb196683fbe00c35e"
   }
  }
 },
 "nbformat": 4,
 "nbformat_minor": 2
}
